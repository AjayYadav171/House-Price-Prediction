{
 "cells": [
  {
   "cell_type": "markdown",
   "id": "cba5335a",
   "metadata": {},
   "source": [
    "  # Problem statement\n",
    "## Based on the given features predict whether the person will donate blood or not"
   ]
  },
  {
   "cell_type": "raw",
   "id": "1982388c",
   "metadata": {},
   "source": [
    "List Of Contents\n",
    "1. Importing Libraries\n",
    "2. Data Collection\n",
    "3. Domain Analysis\n",
    "4. Exploratory Data Analysis\n",
    "5. Data Pre Processing\n",
    "6. Feature Selection\n",
    "7. Model Building\n",
    "8. Model Evaluation\n",
    "9. Evaluation Summary\n",
    "10. Conclusion\n"
   ]
  },
  {
   "cell_type": "code",
   "execution_count": 1,
   "id": "1dcc9375",
   "metadata": {},
   "outputs": [],
   "source": [
    "# importing all libraries\n",
    "import numpy as np\n",
    "import pandas as pd\n",
    "import matplotlib.pyplot as plt\n",
    "import seaborn as sns\n",
    "from scipy import stats\n",
    "import warnings\n",
    "warnings.filterwarnings(\"ignore\")"
   ]
  },
  {
   "cell_type": "code",
   "execution_count": 2,
   "id": "d11edabb",
   "metadata": {},
   "outputs": [
    {
     "data": {
      "text/html": [
       "<div>\n",
       "<style scoped>\n",
       "    .dataframe tbody tr th:only-of-type {\n",
       "        vertical-align: middle;\n",
       "    }\n",
       "\n",
       "    .dataframe tbody tr th {\n",
       "        vertical-align: top;\n",
       "    }\n",
       "\n",
       "    .dataframe thead th {\n",
       "        text-align: right;\n",
       "    }\n",
       "</style>\n",
       "<table border=\"1\" class=\"dataframe\">\n",
       "  <thead>\n",
       "    <tr style=\"text-align: right;\">\n",
       "      <th></th>\n",
       "      <th>Unnamed: 0</th>\n",
       "      <th>Months since Last Donation</th>\n",
       "      <th>Number of Donations</th>\n",
       "      <th>Total Volume Donated (c.c.)</th>\n",
       "      <th>Months since First Donation</th>\n",
       "      <th>Made Donation in March 2007</th>\n",
       "    </tr>\n",
       "  </thead>\n",
       "  <tbody>\n",
       "    <tr>\n",
       "      <th>0</th>\n",
       "      <td>619</td>\n",
       "      <td>2</td>\n",
       "      <td>50</td>\n",
       "      <td>12500</td>\n",
       "      <td>98</td>\n",
       "      <td>1</td>\n",
       "    </tr>\n",
       "    <tr>\n",
       "      <th>1</th>\n",
       "      <td>664</td>\n",
       "      <td>0</td>\n",
       "      <td>13</td>\n",
       "      <td>3250</td>\n",
       "      <td>28</td>\n",
       "      <td>1</td>\n",
       "    </tr>\n",
       "    <tr>\n",
       "      <th>2</th>\n",
       "      <td>441</td>\n",
       "      <td>1</td>\n",
       "      <td>16</td>\n",
       "      <td>4000</td>\n",
       "      <td>35</td>\n",
       "      <td>1</td>\n",
       "    </tr>\n",
       "    <tr>\n",
       "      <th>3</th>\n",
       "      <td>160</td>\n",
       "      <td>2</td>\n",
       "      <td>20</td>\n",
       "      <td>5000</td>\n",
       "      <td>45</td>\n",
       "      <td>1</td>\n",
       "    </tr>\n",
       "    <tr>\n",
       "      <th>4</th>\n",
       "      <td>358</td>\n",
       "      <td>1</td>\n",
       "      <td>24</td>\n",
       "      <td>6000</td>\n",
       "      <td>77</td>\n",
       "      <td>0</td>\n",
       "    </tr>\n",
       "    <tr>\n",
       "      <th>...</th>\n",
       "      <td>...</td>\n",
       "      <td>...</td>\n",
       "      <td>...</td>\n",
       "      <td>...</td>\n",
       "      <td>...</td>\n",
       "      <td>...</td>\n",
       "    </tr>\n",
       "    <tr>\n",
       "      <th>571</th>\n",
       "      <td>698</td>\n",
       "      <td>23</td>\n",
       "      <td>1</td>\n",
       "      <td>250</td>\n",
       "      <td>23</td>\n",
       "      <td>0</td>\n",
       "    </tr>\n",
       "    <tr>\n",
       "      <th>572</th>\n",
       "      <td>433</td>\n",
       "      <td>16</td>\n",
       "      <td>3</td>\n",
       "      <td>750</td>\n",
       "      <td>86</td>\n",
       "      <td>0</td>\n",
       "    </tr>\n",
       "    <tr>\n",
       "      <th>573</th>\n",
       "      <td>360</td>\n",
       "      <td>21</td>\n",
       "      <td>2</td>\n",
       "      <td>500</td>\n",
       "      <td>52</td>\n",
       "      <td>0</td>\n",
       "    </tr>\n",
       "    <tr>\n",
       "      <th>574</th>\n",
       "      <td>541</td>\n",
       "      <td>39</td>\n",
       "      <td>1</td>\n",
       "      <td>250</td>\n",
       "      <td>39</td>\n",
       "      <td>0</td>\n",
       "    </tr>\n",
       "    <tr>\n",
       "      <th>575</th>\n",
       "      <td>74</td>\n",
       "      <td>72</td>\n",
       "      <td>1</td>\n",
       "      <td>250</td>\n",
       "      <td>72</td>\n",
       "      <td>0</td>\n",
       "    </tr>\n",
       "  </tbody>\n",
       "</table>\n",
       "<p>576 rows × 6 columns</p>\n",
       "</div>"
      ],
      "text/plain": [
       "     Unnamed: 0  Months since Last Donation  Number of Donations  \\\n",
       "0           619                           2                   50   \n",
       "1           664                           0                   13   \n",
       "2           441                           1                   16   \n",
       "3           160                           2                   20   \n",
       "4           358                           1                   24   \n",
       "..          ...                         ...                  ...   \n",
       "571         698                          23                    1   \n",
       "572         433                          16                    3   \n",
       "573         360                          21                    2   \n",
       "574         541                          39                    1   \n",
       "575          74                          72                    1   \n",
       "\n",
       "     Total Volume Donated (c.c.)  Months since First Donation  \\\n",
       "0                          12500                           98   \n",
       "1                           3250                           28   \n",
       "2                           4000                           35   \n",
       "3                           5000                           45   \n",
       "4                           6000                           77   \n",
       "..                           ...                          ...   \n",
       "571                          250                           23   \n",
       "572                          750                           86   \n",
       "573                          500                           52   \n",
       "574                          250                           39   \n",
       "575                          250                           72   \n",
       "\n",
       "     Made Donation in March 2007  \n",
       "0                              1  \n",
       "1                              1  \n",
       "2                              1  \n",
       "3                              1  \n",
       "4                              0  \n",
       "..                           ...  \n",
       "571                            0  \n",
       "572                            0  \n",
       "573                            0  \n",
       "574                            0  \n",
       "575                            0  \n",
       "\n",
       "[576 rows x 6 columns]"
      ]
     },
     "execution_count": 2,
     "metadata": {},
     "output_type": "execute_result"
    }
   ],
   "source": [
    "# loading dataset\n",
    "data=pd.read_csv(\"Warm_Up_Predict_Blood_Donations_-_Traning_Data.csv\")\n",
    "data"
   ]
  },
  {
   "cell_type": "code",
   "execution_count": 3,
   "id": "5f961720",
   "metadata": {},
   "outputs": [],
   "source": [
    "data.drop(\"Unnamed: 0\",axis=1,inplace=True) # removing unwanted features"
   ]
  },
  {
   "cell_type": "markdown",
   "id": "d1f936bf",
   "metadata": {},
   "source": [
    "# basic checks"
   ]
  },
  {
   "cell_type": "code",
   "execution_count": 4,
   "id": "77717456",
   "metadata": {},
   "outputs": [
    {
     "data": {
      "text/plain": [
       "(576, 5)"
      ]
     },
     "execution_count": 4,
     "metadata": {},
     "output_type": "execute_result"
    }
   ],
   "source": [
    "data.shape ## Finding the shape of dataset"
   ]
  },
  {
   "cell_type": "code",
   "execution_count": 5,
   "id": "52117a30",
   "metadata": {},
   "outputs": [
    {
     "data": {
      "text/html": [
       "<div>\n",
       "<style scoped>\n",
       "    .dataframe tbody tr th:only-of-type {\n",
       "        vertical-align: middle;\n",
       "    }\n",
       "\n",
       "    .dataframe tbody tr th {\n",
       "        vertical-align: top;\n",
       "    }\n",
       "\n",
       "    .dataframe thead th {\n",
       "        text-align: right;\n",
       "    }\n",
       "</style>\n",
       "<table border=\"1\" class=\"dataframe\">\n",
       "  <thead>\n",
       "    <tr style=\"text-align: right;\">\n",
       "      <th></th>\n",
       "      <th>Months since Last Donation</th>\n",
       "      <th>Number of Donations</th>\n",
       "      <th>Total Volume Donated (c.c.)</th>\n",
       "      <th>Months since First Donation</th>\n",
       "      <th>Made Donation in March 2007</th>\n",
       "    </tr>\n",
       "  </thead>\n",
       "  <tbody>\n",
       "    <tr>\n",
       "      <th>0</th>\n",
       "      <td>2</td>\n",
       "      <td>50</td>\n",
       "      <td>12500</td>\n",
       "      <td>98</td>\n",
       "      <td>1</td>\n",
       "    </tr>\n",
       "    <tr>\n",
       "      <th>1</th>\n",
       "      <td>0</td>\n",
       "      <td>13</td>\n",
       "      <td>3250</td>\n",
       "      <td>28</td>\n",
       "      <td>1</td>\n",
       "    </tr>\n",
       "    <tr>\n",
       "      <th>2</th>\n",
       "      <td>1</td>\n",
       "      <td>16</td>\n",
       "      <td>4000</td>\n",
       "      <td>35</td>\n",
       "      <td>1</td>\n",
       "    </tr>\n",
       "    <tr>\n",
       "      <th>3</th>\n",
       "      <td>2</td>\n",
       "      <td>20</td>\n",
       "      <td>5000</td>\n",
       "      <td>45</td>\n",
       "      <td>1</td>\n",
       "    </tr>\n",
       "    <tr>\n",
       "      <th>4</th>\n",
       "      <td>1</td>\n",
       "      <td>24</td>\n",
       "      <td>6000</td>\n",
       "      <td>77</td>\n",
       "      <td>0</td>\n",
       "    </tr>\n",
       "  </tbody>\n",
       "</table>\n",
       "</div>"
      ],
      "text/plain": [
       "   Months since Last Donation  Number of Donations  \\\n",
       "0                           2                   50   \n",
       "1                           0                   13   \n",
       "2                           1                   16   \n",
       "3                           2                   20   \n",
       "4                           1                   24   \n",
       "\n",
       "   Total Volume Donated (c.c.)  Months since First Donation  \\\n",
       "0                        12500                           98   \n",
       "1                         3250                           28   \n",
       "2                         4000                           35   \n",
       "3                         5000                           45   \n",
       "4                         6000                           77   \n",
       "\n",
       "   Made Donation in March 2007  \n",
       "0                            1  \n",
       "1                            1  \n",
       "2                            1  \n",
       "3                            1  \n",
       "4                            0  "
      ]
     },
     "execution_count": 5,
     "metadata": {},
     "output_type": "execute_result"
    }
   ],
   "source": [
    "data.head() # display initial 5 rows"
   ]
  },
  {
   "cell_type": "code",
   "execution_count": 6,
   "id": "e85aa4de",
   "metadata": {},
   "outputs": [
    {
     "data": {
      "text/html": [
       "<div>\n",
       "<style scoped>\n",
       "    .dataframe tbody tr th:only-of-type {\n",
       "        vertical-align: middle;\n",
       "    }\n",
       "\n",
       "    .dataframe tbody tr th {\n",
       "        vertical-align: top;\n",
       "    }\n",
       "\n",
       "    .dataframe thead th {\n",
       "        text-align: right;\n",
       "    }\n",
       "</style>\n",
       "<table border=\"1\" class=\"dataframe\">\n",
       "  <thead>\n",
       "    <tr style=\"text-align: right;\">\n",
       "      <th></th>\n",
       "      <th>Months since Last Donation</th>\n",
       "      <th>Number of Donations</th>\n",
       "      <th>Total Volume Donated (c.c.)</th>\n",
       "      <th>Months since First Donation</th>\n",
       "      <th>Made Donation in March 2007</th>\n",
       "    </tr>\n",
       "  </thead>\n",
       "  <tbody>\n",
       "    <tr>\n",
       "      <th>571</th>\n",
       "      <td>23</td>\n",
       "      <td>1</td>\n",
       "      <td>250</td>\n",
       "      <td>23</td>\n",
       "      <td>0</td>\n",
       "    </tr>\n",
       "    <tr>\n",
       "      <th>572</th>\n",
       "      <td>16</td>\n",
       "      <td>3</td>\n",
       "      <td>750</td>\n",
       "      <td>86</td>\n",
       "      <td>0</td>\n",
       "    </tr>\n",
       "    <tr>\n",
       "      <th>573</th>\n",
       "      <td>21</td>\n",
       "      <td>2</td>\n",
       "      <td>500</td>\n",
       "      <td>52</td>\n",
       "      <td>0</td>\n",
       "    </tr>\n",
       "    <tr>\n",
       "      <th>574</th>\n",
       "      <td>39</td>\n",
       "      <td>1</td>\n",
       "      <td>250</td>\n",
       "      <td>39</td>\n",
       "      <td>0</td>\n",
       "    </tr>\n",
       "    <tr>\n",
       "      <th>575</th>\n",
       "      <td>72</td>\n",
       "      <td>1</td>\n",
       "      <td>250</td>\n",
       "      <td>72</td>\n",
       "      <td>0</td>\n",
       "    </tr>\n",
       "  </tbody>\n",
       "</table>\n",
       "</div>"
      ],
      "text/plain": [
       "     Months since Last Donation  Number of Donations  \\\n",
       "571                          23                    1   \n",
       "572                          16                    3   \n",
       "573                          21                    2   \n",
       "574                          39                    1   \n",
       "575                          72                    1   \n",
       "\n",
       "     Total Volume Donated (c.c.)  Months since First Donation  \\\n",
       "571                          250                           23   \n",
       "572                          750                           86   \n",
       "573                          500                           52   \n",
       "574                          250                           39   \n",
       "575                          250                           72   \n",
       "\n",
       "     Made Donation in March 2007  \n",
       "571                            0  \n",
       "572                            0  \n",
       "573                            0  \n",
       "574                            0  \n",
       "575                            0  "
      ]
     },
     "execution_count": 6,
     "metadata": {},
     "output_type": "execute_result"
    }
   ],
   "source": [
    "data.tail() # display final 5 rows"
   ]
  },
  {
   "cell_type": "code",
   "execution_count": 7,
   "id": "655f3a8a",
   "metadata": {},
   "outputs": [
    {
     "data": {
      "text/html": [
       "<div>\n",
       "<style scoped>\n",
       "    .dataframe tbody tr th:only-of-type {\n",
       "        vertical-align: middle;\n",
       "    }\n",
       "\n",
       "    .dataframe tbody tr th {\n",
       "        vertical-align: top;\n",
       "    }\n",
       "\n",
       "    .dataframe thead th {\n",
       "        text-align: right;\n",
       "    }\n",
       "</style>\n",
       "<table border=\"1\" class=\"dataframe\">\n",
       "  <thead>\n",
       "    <tr style=\"text-align: right;\">\n",
       "      <th></th>\n",
       "      <th>Months since Last Donation</th>\n",
       "      <th>Number of Donations</th>\n",
       "      <th>Total Volume Donated (c.c.)</th>\n",
       "      <th>Months since First Donation</th>\n",
       "      <th>Made Donation in March 2007</th>\n",
       "    </tr>\n",
       "  </thead>\n",
       "  <tbody>\n",
       "    <tr>\n",
       "      <th>count</th>\n",
       "      <td>576.000000</td>\n",
       "      <td>576.000000</td>\n",
       "      <td>576.000000</td>\n",
       "      <td>576.000000</td>\n",
       "      <td>576.000000</td>\n",
       "    </tr>\n",
       "    <tr>\n",
       "      <th>mean</th>\n",
       "      <td>9.439236</td>\n",
       "      <td>5.427083</td>\n",
       "      <td>1356.770833</td>\n",
       "      <td>34.050347</td>\n",
       "      <td>0.239583</td>\n",
       "    </tr>\n",
       "    <tr>\n",
       "      <th>std</th>\n",
       "      <td>8.175454</td>\n",
       "      <td>5.740010</td>\n",
       "      <td>1435.002556</td>\n",
       "      <td>24.227672</td>\n",
       "      <td>0.427200</td>\n",
       "    </tr>\n",
       "    <tr>\n",
       "      <th>min</th>\n",
       "      <td>0.000000</td>\n",
       "      <td>1.000000</td>\n",
       "      <td>250.000000</td>\n",
       "      <td>2.000000</td>\n",
       "      <td>0.000000</td>\n",
       "    </tr>\n",
       "    <tr>\n",
       "      <th>25%</th>\n",
       "      <td>2.000000</td>\n",
       "      <td>2.000000</td>\n",
       "      <td>500.000000</td>\n",
       "      <td>16.000000</td>\n",
       "      <td>0.000000</td>\n",
       "    </tr>\n",
       "    <tr>\n",
       "      <th>50%</th>\n",
       "      <td>7.000000</td>\n",
       "      <td>4.000000</td>\n",
       "      <td>1000.000000</td>\n",
       "      <td>28.000000</td>\n",
       "      <td>0.000000</td>\n",
       "    </tr>\n",
       "    <tr>\n",
       "      <th>75%</th>\n",
       "      <td>14.000000</td>\n",
       "      <td>7.000000</td>\n",
       "      <td>1750.000000</td>\n",
       "      <td>49.250000</td>\n",
       "      <td>0.000000</td>\n",
       "    </tr>\n",
       "    <tr>\n",
       "      <th>max</th>\n",
       "      <td>74.000000</td>\n",
       "      <td>50.000000</td>\n",
       "      <td>12500.000000</td>\n",
       "      <td>98.000000</td>\n",
       "      <td>1.000000</td>\n",
       "    </tr>\n",
       "  </tbody>\n",
       "</table>\n",
       "</div>"
      ],
      "text/plain": [
       "       Months since Last Donation  Number of Donations  \\\n",
       "count                  576.000000           576.000000   \n",
       "mean                     9.439236             5.427083   \n",
       "std                      8.175454             5.740010   \n",
       "min                      0.000000             1.000000   \n",
       "25%                      2.000000             2.000000   \n",
       "50%                      7.000000             4.000000   \n",
       "75%                     14.000000             7.000000   \n",
       "max                     74.000000            50.000000   \n",
       "\n",
       "       Total Volume Donated (c.c.)  Months since First Donation  \\\n",
       "count                   576.000000                   576.000000   \n",
       "mean                   1356.770833                    34.050347   \n",
       "std                    1435.002556                    24.227672   \n",
       "min                     250.000000                     2.000000   \n",
       "25%                     500.000000                    16.000000   \n",
       "50%                    1000.000000                    28.000000   \n",
       "75%                    1750.000000                    49.250000   \n",
       "max                   12500.000000                    98.000000   \n",
       "\n",
       "       Made Donation in March 2007  \n",
       "count                   576.000000  \n",
       "mean                      0.239583  \n",
       "std                       0.427200  \n",
       "min                       0.000000  \n",
       "25%                       0.000000  \n",
       "50%                       0.000000  \n",
       "75%                       0.000000  \n",
       "max                       1.000000  "
      ]
     },
     "execution_count": 7,
     "metadata": {},
     "output_type": "execute_result"
    }
   ],
   "source": [
    "data.describe() ## Statistical information about numerical data"
   ]
  },
  {
   "cell_type": "code",
   "execution_count": 8,
   "id": "3340d3b0",
   "metadata": {},
   "outputs": [
    {
     "name": "stdout",
     "output_type": "stream",
     "text": [
      "<class 'pandas.core.frame.DataFrame'>\n",
      "RangeIndex: 576 entries, 0 to 575\n",
      "Data columns (total 5 columns):\n",
      " #   Column                       Non-Null Count  Dtype\n",
      "---  ------                       --------------  -----\n",
      " 0   Months since Last Donation   576 non-null    int64\n",
      " 1   Number of Donations          576 non-null    int64\n",
      " 2   Total Volume Donated (c.c.)  576 non-null    int64\n",
      " 3   Months since First Donation  576 non-null    int64\n",
      " 4   Made Donation in March 2007  576 non-null    int64\n",
      "dtypes: int64(5)\n",
      "memory usage: 22.6 KB\n"
     ]
    }
   ],
   "source": [
    "data.info() ## Quick summary of dataset"
   ]
  },
  {
   "cell_type": "code",
   "execution_count": 9,
   "id": "d8a9bf47",
   "metadata": {},
   "outputs": [
    {
     "data": {
      "text/plain": [
       "153"
      ]
     },
     "execution_count": 9,
     "metadata": {},
     "output_type": "execute_result"
    }
   ],
   "source": [
    "data.duplicated().sum() #checking duplicate records"
   ]
  },
  {
   "cell_type": "code",
   "execution_count": 10,
   "id": "8f8014bf",
   "metadata": {},
   "outputs": [],
   "source": [
    "# dropping duplicate records\n",
    "data.drop_duplicates(inplace=True)"
   ]
  },
  {
   "cell_type": "markdown",
   "id": "b032869d",
   "metadata": {},
   "source": [
    "# EDA"
   ]
  },
  {
   "cell_type": "code",
   "execution_count": 11,
   "id": "9f442f7d",
   "metadata": {},
   "outputs": [
    {
     "data": {
      "image/png": "[encoded data removed]",
      "text/plain": [
       "<Figure size 1000x1000 with 5 Axes>"
      ]
     },
     "metadata": {},
     "output_type": "display_data"
    }
   ],
   "source": [
    "# Univariate Analysis\n",
    "plt.figure(figsize=(10,10))\n",
    "plotnumber=1\n",
    "for i in data:\n",
    "    plt.subplot(2,3,plotnumber)\n",
    "    sns.histplot(x=data[i],kde=True)\n",
    "    plotnumber+=1\n",
    "plt.tight_layout()  "
   ]
  },
  {
   "cell_type": "raw",
   "id": "799dc9a8",
   "metadata": {},
   "source": [
    "1.in column \"month since last donation\" the value \"0\" has the highest count of around 150.and values goes on decreases from 0 to 20.\n",
    "\n",
    "2.column \"Number of Donations\" has maximum count of value\"1\" .and it is right skewed.\n",
    "\n",
    "3.column \"Total Volume Donated (c.c.)\" the value 250 has maximum number of counts,in the range 0-2500 the values has highest count in decreasing manner.and it is right skewed.\n",
    "\n",
    "4. in the column \"Months since First Donation\"  16 has maximum value counts.and it is right skewed.\n",
    "\n",
    "5.in our target column 0 has maximum value counts around 438 has 1 has 138 total value counts."
   ]
  },
  {
   "cell_type": "code",
   "execution_count": 12,
   "id": "773a3eab",
   "metadata": {},
   "outputs": [
    {
     "data": {
      "image/png": "[encoded data removed]",
      "text/plain": [
       "<Figure size 1000x1000 with 5 Axes>"
      ]
     },
     "metadata": {},
     "output_type": "display_data"
    }
   ],
   "source": [
    "# bivariate Analysis\n",
    "plt.figure(figsize=(10,10))\n",
    "plotnumber=1\n",
    "for i in data:\n",
    "    plt.subplot(2,3,plotnumber)\n",
    "    sns.barplot(x=data[\"Made Donation in March 2007\"],y=data[i])\n",
    "    plotnumber+=1\n",
    "plt.tight_layout() "
   ]
  },
  {
   "cell_type": "raw",
   "id": "4ae5c1ac",
   "metadata": {},
   "source": [
    "1.In column \"month since last donation\",0 class has maximum counts than 1.\n",
    "\n",
    "2.in columns \"number of donations\",\"Total Volume Donated (c.c.)\" ,\"Made Donation in March 2007\" ,class 1 has maximum value counts about 438 as compared to 0 class."
   ]
  },
  {
   "cell_type": "code",
   "execution_count": 13,
   "id": "1779f19c",
   "metadata": {},
   "outputs": [
    {
     "data": {
      "text/plain": [
       "<seaborn.axisgrid.PairGrid at 0x1cf8946da90>"
      ]
     },
     "execution_count": 13,
     "metadata": {},
     "output_type": "execute_result"
    },
    {
     "data": {
      "image/png": "[encoded data removed]",
      "text/plain": [
       "<Figure size 1250x1250 with 30 Axes>"
      ]
     },
     "metadata": {},
     "output_type": "display_data"
    }
   ],
   "source": [
    "sns.pairplot(data)"
   ]
  },
  {
   "cell_type": "markdown",
   "id": "95c08d23",
   "metadata": {},
   "source": [
    "# data preprocessing\n",
    "# checking for null values"
   ]
  },
  {
   "cell_type": "code",
   "execution_count": 14,
   "id": "b38e3216",
   "metadata": {},
   "outputs": [
    {
     "data": {
      "text/plain": [
       "Months since Last Donation     0\n",
       "Number of Donations            0\n",
       "Total Volume Donated (c.c.)    0\n",
       "Months since First Donation    0\n",
       "Made Donation in March 2007    0\n",
       "dtype: int64"
      ]
     },
     "execution_count": 14,
     "metadata": {},
     "output_type": "execute_result"
    }
   ],
   "source": [
    "data.isnull().sum() # checking for null values"
   ]
  },
  {
   "cell_type": "code",
   "execution_count": 15,
   "id": "23bce055",
   "metadata": {},
   "outputs": [],
   "source": [
    "# no null values"
   ]
  },
  {
   "cell_type": "markdown",
   "id": "382d8222",
   "metadata": {},
   "source": [
    "# handling outliers"
   ]
  },
  {
   "cell_type": "code",
   "execution_count": 16,
   "id": "424ae018",
   "metadata": {},
   "outputs": [],
   "source": [
    "# outliers using boxplot"
   ]
  },
  {
   "cell_type": "code",
   "execution_count": 17,
   "id": "7612272a",
   "metadata": {},
   "outputs": [
    {
     "data": {
      "text/plain": [
       "<AxesSubplot:>"
      ]
     },
     "execution_count": 17,
     "metadata": {},
     "output_type": "execute_result"
    },
    {
     "data": {
      "image/png": "[encoded data removed]",
      "text/plain": [
       "<Figure size 640x480 with 1 Axes>"
      ]
     },
     "metadata": {},
     "output_type": "display_data"
    }
   ],
   "source": [
    "sns.boxplot(data['Months since Last Donation'])"
   ]
  },
  {
   "cell_type": "code",
   "execution_count": 18,
   "id": "357fc851",
   "metadata": {},
   "outputs": [],
   "source": [
    "## using IQR to remove the outliers\n",
    "IQR=stats.iqr(data[\"Months since Last Donation\"],interpolation=\"midpoint\")\n",
    "\n",
    "## min and max limit calculation\n",
    "\n",
    "# First quartile (Q1) \n",
    "Q1=data[\"Months since Last Donation\"].quantile(0.25)\n",
    "\n",
    "# Third quartile (Q3) \n",
    "Q3=data[\"Months since Last Donation\"].quantile(0.75)\n",
    "\n",
    "##getting the limits\n",
    "lower_limit=Q1-1.5*IQR \n",
    "upper_limit=Q3+1.5*IQR \n",
    "\n",
    "# replacing with median\n",
    "data.loc[data[\"Months since Last Donation\"]>upper_limit,\"Months since Last Donation\"]=np.median(data[\"Months since Last Donation\"])"
   ]
  },
  {
   "cell_type": "code",
   "execution_count": 19,
   "id": "9206ae62",
   "metadata": {},
   "outputs": [
    {
     "data": {
      "text/plain": [
       "<AxesSubplot:>"
      ]
     },
     "execution_count": 19,
     "metadata": {},
     "output_type": "execute_result"
    },
    {
     "data": {
      "image/png": "[encoded data removed]",
      "text/plain": [
       "<Figure size 640x480 with 1 Axes>"
      ]
     },
     "metadata": {},
     "output_type": "display_data"
    }
   ],
   "source": [
    "sns.boxplot(data['Months since Last Donation'])"
   ]
  },
  {
   "cell_type": "code",
   "execution_count": 20,
   "id": "1caf7933",
   "metadata": {},
   "outputs": [
    {
     "data": {
      "text/plain": [
       "<AxesSubplot:>"
      ]
     },
     "execution_count": 20,
     "metadata": {},
     "output_type": "execute_result"
    },
    {
     "data": {
      "image/png": "[encoded data removed]",
      "text/plain": [
       "<Figure size 640x480 with 1 Axes>"
      ]
     },
     "metadata": {},
     "output_type": "display_data"
    }
   ],
   "source": [
    "sns.boxplot(data['Number of Donations'])"
   ]
  },
  {
   "cell_type": "code",
   "execution_count": 21,
   "id": "798d8160",
   "metadata": {},
   "outputs": [],
   "source": [
    "IQR=stats.iqr(data['Number of Donations'],interpolation=\"midpoint\")\n",
    "Q1=data['Number of Donations'].quantile(0.25)\n",
    "Q3=data['Number of Donations'].quantile(0.75)\n",
    "lower_limit=Q1-1.5*IQR \n",
    "upper_limit=Q3+1.5*IQR \n",
    "data.loc[data['Number of Donations']>upper_limit,'Number of Donations']=np.median(data['Number of Donations'])"
   ]
  },
  {
   "cell_type": "code",
   "execution_count": 22,
   "id": "bbb55dbc",
   "metadata": {},
   "outputs": [
    {
     "data": {
      "text/plain": [
       "<AxesSubplot:>"
      ]
     },
     "execution_count": 22,
     "metadata": {},
     "output_type": "execute_result"
    },
    {
     "data": {
      "image/png": "[encoded data removed]",
      "text/plain": [
       "<Figure size 640x480 with 1 Axes>"
      ]
     },
     "metadata": {},
     "output_type": "display_data"
    }
   ],
   "source": [
    "sns.boxplot(data['Number of Donations'])"
   ]
  },
  {
   "cell_type": "code",
   "execution_count": 23,
   "id": "13c9dbfd",
   "metadata": {},
   "outputs": [
    {
     "data": {
      "text/plain": [
       "<AxesSubplot:>"
      ]
     },
     "execution_count": 23,
     "metadata": {},
     "output_type": "execute_result"
    },
    {
     "data": {
      "image/png": "[encoded data removed]",
      "text/plain": [
       "<Figure size 640x480 with 1 Axes>"
      ]
     },
     "metadata": {},
     "output_type": "display_data"
    }
   ],
   "source": [
    "sns.boxplot(data['Number of Donations'])"
   ]
  },
  {
   "cell_type": "code",
   "execution_count": 24,
   "id": "6e7664bd",
   "metadata": {},
   "outputs": [
    {
     "data": {
      "text/plain": [
       "<AxesSubplot:>"
      ]
     },
     "execution_count": 24,
     "metadata": {},
     "output_type": "execute_result"
    },
    {
     "data": {
      "image/png": "[encoded data removed]",
      "text/plain": [
       "<Figure size 640x480 with 1 Axes>"
      ]
     },
     "metadata": {},
     "output_type": "display_data"
    }
   ],
   "source": [
    "sns.boxplot(data['Total Volume Donated (c.c.)'])"
   ]
  },
  {
   "cell_type": "code",
   "execution_count": 25,
   "id": "e36ddf2b",
   "metadata": {},
   "outputs": [],
   "source": [
    "IQR=stats.iqr(data['Total Volume Donated (c.c.)'],interpolation=\"midpoint\")\n",
    "Q1=data['Total Volume Donated (c.c.)'].quantile(0.25)\n",
    "Q3=data['Total Volume Donated (c.c.)'].quantile(0.75)\n",
    "lower_limit=Q1-1.5*IQR \n",
    "upper_limit=Q3+1.5*IQR \n",
    "data.loc[data['Total Volume Donated (c.c.)']>upper_limit,'Total Volume Donated (c.c.)']=np.median(data['Total Volume Donated (c.c.)'])"
   ]
  },
  {
   "cell_type": "code",
   "execution_count": 26,
   "id": "da6514bf",
   "metadata": {},
   "outputs": [
    {
     "data": {
      "text/plain": [
       "<AxesSubplot:>"
      ]
     },
     "execution_count": 26,
     "metadata": {},
     "output_type": "execute_result"
    },
    {
     "data": {
      "image/png": "[encoded data removed]",
      "text/plain": [
       "<Figure size 640x480 with 1 Axes>"
      ]
     },
     "metadata": {},
     "output_type": "display_data"
    }
   ],
   "source": [
    "sns.boxplot(data['Total Volume Donated (c.c.)'])"
   ]
  },
  {
   "cell_type": "code",
   "execution_count": 27,
   "id": "88978ca5",
   "metadata": {},
   "outputs": [
    {
     "data": {
      "text/plain": [
       "<AxesSubplot:>"
      ]
     },
     "execution_count": 27,
     "metadata": {},
     "output_type": "execute_result"
    },
    {
     "data": {
      "image/png": "[encoded data removed]",
      "text/plain": [
       "<Figure size 640x480 with 1 Axes>"
      ]
     },
     "metadata": {},
     "output_type": "display_data"
    }
   ],
   "source": [
    "sns.boxplot(data['Total Volume Donated (c.c.)'])"
   ]
  },
  {
   "cell_type": "code",
   "execution_count": 28,
   "id": "46a11b46",
   "metadata": {},
   "outputs": [
    {
     "data": {
      "text/plain": [
       "<AxesSubplot:>"
      ]
     },
     "execution_count": 28,
     "metadata": {},
     "output_type": "execute_result"
    },
    {
     "data": {
      "image/png": "[encoded data removed]",
      "text/plain": [
       "<Figure size 640x480 with 1 Axes>"
      ]
     },
     "metadata": {},
     "output_type": "display_data"
    }
   ],
   "source": [
    "sns.boxplot(data['Months since First Donation'])"
   ]
  },
  {
   "cell_type": "code",
   "execution_count": 29,
   "id": "3895b882",
   "metadata": {},
   "outputs": [
    {
     "data": {
      "text/plain": [
       "<AxesSubplot:>"
      ]
     },
     "execution_count": 29,
     "metadata": {},
     "output_type": "execute_result"
    },
    {
     "data": {
      "image/png": "[encoded data removed]",
      "text/plain": [
       "<Figure size 640x480 with 1 Axes>"
      ]
     },
     "metadata": {},
     "output_type": "display_data"
    }
   ],
   "source": [
    "sns.boxplot(data['Made Donation in March 2007'])"
   ]
  },
  {
   "cell_type": "code",
   "execution_count": 30,
   "id": "ff4556e2",
   "metadata": {},
   "outputs": [],
   "source": [
    "# feature selection using heatmap"
   ]
  },
  {
   "cell_type": "code",
   "execution_count": 31,
   "id": "ac4baef1",
   "metadata": {},
   "outputs": [
    {
     "data": {
      "text/plain": [
       "<AxesSubplot:>"
      ]
     },
     "execution_count": 31,
     "metadata": {},
     "output_type": "execute_result"
    },
    {
     "data": {
      "image/png": "[encoded data removed]",
      "text/plain": [
       "<Figure size 640x480 with 2 Axes>"
      ]
     },
     "metadata": {},
     "output_type": "display_data"
    }
   ],
   "source": [
    "sns.heatmap(data.drop(\"Made Donation in March 2007\",axis=1).corr(),annot=True)"
   ]
  },
  {
   "cell_type": "code",
   "execution_count": 32,
   "id": "3dc8c046",
   "metadata": {},
   "outputs": [],
   "source": [
    "data.drop(\"Total Volume Donated (c.c.)\",axis=1,inplace=True) # dropping highly correlated column"
   ]
  },
  {
   "cell_type": "code",
   "execution_count": 33,
   "id": "6bff9e95",
   "metadata": {},
   "outputs": [
    {
     "data": {
      "text/plain": [
       "<AxesSubplot:>"
      ]
     },
     "execution_count": 33,
     "metadata": {},
     "output_type": "execute_result"
    },
    {
     "data": {
      "image/png": "[encoded data removed]",
      "text/plain": [
       "<Figure size 640x480 with 2 Axes>"
      ]
     },
     "metadata": {},
     "output_type": "display_data"
    }
   ],
   "source": [
    "sns.heatmap(data.drop(\"Made Donation in March 2007\",axis=1).corr(),annot=True)"
   ]
  },
  {
   "cell_type": "code",
   "execution_count": 34,
   "id": "670f98e6",
   "metadata": {},
   "outputs": [
    {
     "data": {
      "text/html": [
       "<div>\n",
       "<style scoped>\n",
       "    .dataframe tbody tr th:only-of-type {\n",
       "        vertical-align: middle;\n",
       "    }\n",
       "\n",
       "    .dataframe tbody tr th {\n",
       "        vertical-align: top;\n",
       "    }\n",
       "\n",
       "    .dataframe thead th {\n",
       "        text-align: right;\n",
       "    }\n",
       "</style>\n",
       "<table border=\"1\" class=\"dataframe\">\n",
       "  <thead>\n",
       "    <tr style=\"text-align: right;\">\n",
       "      <th></th>\n",
       "      <th>Months since Last Donation</th>\n",
       "      <th>Number of Donations</th>\n",
       "      <th>Months since First Donation</th>\n",
       "    </tr>\n",
       "  </thead>\n",
       "  <tbody>\n",
       "    <tr>\n",
       "      <th>0</th>\n",
       "      <td>2</td>\n",
       "      <td>5</td>\n",
       "      <td>98</td>\n",
       "    </tr>\n",
       "    <tr>\n",
       "      <th>1</th>\n",
       "      <td>0</td>\n",
       "      <td>13</td>\n",
       "      <td>28</td>\n",
       "    </tr>\n",
       "    <tr>\n",
       "      <th>2</th>\n",
       "      <td>1</td>\n",
       "      <td>5</td>\n",
       "      <td>35</td>\n",
       "    </tr>\n",
       "    <tr>\n",
       "      <th>3</th>\n",
       "      <td>2</td>\n",
       "      <td>5</td>\n",
       "      <td>45</td>\n",
       "    </tr>\n",
       "    <tr>\n",
       "      <th>4</th>\n",
       "      <td>1</td>\n",
       "      <td>5</td>\n",
       "      <td>77</td>\n",
       "    </tr>\n",
       "    <tr>\n",
       "      <th>...</th>\n",
       "      <td>...</td>\n",
       "      <td>...</td>\n",
       "      <td>...</td>\n",
       "    </tr>\n",
       "    <tr>\n",
       "      <th>566</th>\n",
       "      <td>23</td>\n",
       "      <td>1</td>\n",
       "      <td>23</td>\n",
       "    </tr>\n",
       "    <tr>\n",
       "      <th>572</th>\n",
       "      <td>16</td>\n",
       "      <td>3</td>\n",
       "      <td>86</td>\n",
       "    </tr>\n",
       "    <tr>\n",
       "      <th>573</th>\n",
       "      <td>21</td>\n",
       "      <td>2</td>\n",
       "      <td>52</td>\n",
       "    </tr>\n",
       "    <tr>\n",
       "      <th>574</th>\n",
       "      <td>8</td>\n",
       "      <td>1</td>\n",
       "      <td>39</td>\n",
       "    </tr>\n",
       "    <tr>\n",
       "      <th>575</th>\n",
       "      <td>8</td>\n",
       "      <td>1</td>\n",
       "      <td>72</td>\n",
       "    </tr>\n",
       "  </tbody>\n",
       "</table>\n",
       "<p>423 rows × 3 columns</p>\n",
       "</div>"
      ],
      "text/plain": [
       "     Months since Last Donation  Number of Donations  \\\n",
       "0                             2                    5   \n",
       "1                             0                   13   \n",
       "2                             1                    5   \n",
       "3                             2                    5   \n",
       "4                             1                    5   \n",
       "..                          ...                  ...   \n",
       "566                          23                    1   \n",
       "572                          16                    3   \n",
       "573                          21                    2   \n",
       "574                           8                    1   \n",
       "575                           8                    1   \n",
       "\n",
       "     Months since First Donation  \n",
       "0                             98  \n",
       "1                             28  \n",
       "2                             35  \n",
       "3                             45  \n",
       "4                             77  \n",
       "..                           ...  \n",
       "566                           23  \n",
       "572                           86  \n",
       "573                           52  \n",
       "574                           39  \n",
       "575                           72  \n",
       "\n",
       "[423 rows x 3 columns]"
      ]
     },
     "execution_count": 34,
     "metadata": {},
     "output_type": "execute_result"
    }
   ],
   "source": [
    "## Creating independent and dependent variable\n",
    "x=data.drop(\"Made Donation in March 2007\",axis=1)\n",
    "x"
   ]
  },
  {
   "cell_type": "code",
   "execution_count": 35,
   "id": "d0c88bba",
   "metadata": {},
   "outputs": [
    {
     "data": {
      "text/plain": [
       "0      1\n",
       "1      1\n",
       "2      1\n",
       "3      1\n",
       "4      0\n",
       "      ..\n",
       "566    1\n",
       "572    0\n",
       "573    0\n",
       "574    0\n",
       "575    0\n",
       "Name: Made Donation in March 2007, Length: 423, dtype: int64"
      ]
     },
     "execution_count": 35,
     "metadata": {},
     "output_type": "execute_result"
    }
   ],
   "source": [
    "y=data[\"Made Donation in March 2007\"]\n",
    "y"
   ]
  },
  {
   "cell_type": "code",
   "execution_count": 36,
   "id": "e465d0e2",
   "metadata": {},
   "outputs": [],
   "source": [
    "# scaling using MinMaxScaler\n",
    "from sklearn.preprocessing import StandardScaler\n",
    "scaler=StandardScaler()"
   ]
  },
  {
   "cell_type": "code",
   "execution_count": 37,
   "id": "91fc38e9",
   "metadata": {},
   "outputs": [
    {
     "data": {
      "text/plain": [
       "array([[-1.03030009, -0.15215152,  2.41970857],\n",
       "       [-1.32308943,  2.33519502, -0.57546599],\n",
       "       [-1.17669476, -0.15215152, -0.27594854],\n",
       "       ...,\n",
       "       [ 1.75119867, -1.08490647,  0.451451  ],\n",
       "       [-0.15193206, -1.39582479, -0.10479571],\n",
       "       [-0.15193206, -1.39582479,  1.30721516]])"
      ]
     },
     "execution_count": 37,
     "metadata": {},
     "output_type": "execute_result"
    }
   ],
   "source": [
    "x_scaled=scaler.fit_transform(x)\n",
    "x_scaled"
   ]
  },
  {
   "cell_type": "code",
   "execution_count": 38,
   "id": "ecfd9170",
   "metadata": {},
   "outputs": [
    {
     "data": {
      "text/html": [
       "<div>\n",
       "<style scoped>\n",
       "    .dataframe tbody tr th:only-of-type {\n",
       "        vertical-align: middle;\n",
       "    }\n",
       "\n",
       "    .dataframe tbody tr th {\n",
       "        vertical-align: top;\n",
       "    }\n",
       "\n",
       "    .dataframe thead th {\n",
       "        text-align: right;\n",
       "    }\n",
       "</style>\n",
       "<table border=\"1\" class=\"dataframe\">\n",
       "  <thead>\n",
       "    <tr style=\"text-align: right;\">\n",
       "      <th></th>\n",
       "      <th>Months since Last Donation</th>\n",
       "      <th>Number of Donations</th>\n",
       "      <th>Months since First Donation</th>\n",
       "    </tr>\n",
       "  </thead>\n",
       "  <tbody>\n",
       "    <tr>\n",
       "      <th>0</th>\n",
       "      <td>-1.030300</td>\n",
       "      <td>-0.152152</td>\n",
       "      <td>2.419709</td>\n",
       "    </tr>\n",
       "    <tr>\n",
       "      <th>1</th>\n",
       "      <td>-1.323089</td>\n",
       "      <td>2.335195</td>\n",
       "      <td>-0.575466</td>\n",
       "    </tr>\n",
       "    <tr>\n",
       "      <th>2</th>\n",
       "      <td>-1.176695</td>\n",
       "      <td>-0.152152</td>\n",
       "      <td>-0.275949</td>\n",
       "    </tr>\n",
       "    <tr>\n",
       "      <th>3</th>\n",
       "      <td>-1.030300</td>\n",
       "      <td>-0.152152</td>\n",
       "      <td>0.151934</td>\n",
       "    </tr>\n",
       "    <tr>\n",
       "      <th>4</th>\n",
       "      <td>-1.176695</td>\n",
       "      <td>-0.152152</td>\n",
       "      <td>1.521156</td>\n",
       "    </tr>\n",
       "    <tr>\n",
       "      <th>...</th>\n",
       "      <td>...</td>\n",
       "      <td>...</td>\n",
       "      <td>...</td>\n",
       "    </tr>\n",
       "    <tr>\n",
       "      <th>418</th>\n",
       "      <td>2.043988</td>\n",
       "      <td>-1.395825</td>\n",
       "      <td>-0.789407</td>\n",
       "    </tr>\n",
       "    <tr>\n",
       "      <th>419</th>\n",
       "      <td>1.019225</td>\n",
       "      <td>-0.773988</td>\n",
       "      <td>1.906250</td>\n",
       "    </tr>\n",
       "    <tr>\n",
       "      <th>420</th>\n",
       "      <td>1.751199</td>\n",
       "      <td>-1.084906</td>\n",
       "      <td>0.451451</td>\n",
       "    </tr>\n",
       "    <tr>\n",
       "      <th>421</th>\n",
       "      <td>-0.151932</td>\n",
       "      <td>-1.395825</td>\n",
       "      <td>-0.104796</td>\n",
       "    </tr>\n",
       "    <tr>\n",
       "      <th>422</th>\n",
       "      <td>-0.151932</td>\n",
       "      <td>-1.395825</td>\n",
       "      <td>1.307215</td>\n",
       "    </tr>\n",
       "  </tbody>\n",
       "</table>\n",
       "<p>423 rows × 3 columns</p>\n",
       "</div>"
      ],
      "text/plain": [
       "     Months since Last Donation  Number of Donations  \\\n",
       "0                     -1.030300            -0.152152   \n",
       "1                     -1.323089             2.335195   \n",
       "2                     -1.176695            -0.152152   \n",
       "3                     -1.030300            -0.152152   \n",
       "4                     -1.176695            -0.152152   \n",
       "..                          ...                  ...   \n",
       "418                    2.043988            -1.395825   \n",
       "419                    1.019225            -0.773988   \n",
       "420                    1.751199            -1.084906   \n",
       "421                   -0.151932            -1.395825   \n",
       "422                   -0.151932            -1.395825   \n",
       "\n",
       "     Months since First Donation  \n",
       "0                       2.419709  \n",
       "1                      -0.575466  \n",
       "2                      -0.275949  \n",
       "3                       0.151934  \n",
       "4                       1.521156  \n",
       "..                           ...  \n",
       "418                    -0.789407  \n",
       "419                     1.906250  \n",
       "420                     0.451451  \n",
       "421                    -0.104796  \n",
       "422                     1.307215  \n",
       "\n",
       "[423 rows x 3 columns]"
      ]
     },
     "execution_count": 38,
     "metadata": {},
     "output_type": "execute_result"
    }
   ],
   "source": [
    "x_final=pd.DataFrame(x_scaled,columns=x.columns)\n",
    "x_final"
   ]
  },
  {
   "cell_type": "code",
   "execution_count": 39,
   "id": "94d54346",
   "metadata": {},
   "outputs": [],
   "source": [
    "#Splitting the data into train set and test set\n",
    "from sklearn.model_selection import train_test_split\n",
    "x_train,x_test,y_train,y_test=train_test_split(x_final,y,random_state=10,test_size=0.30)"
   ]
  },
  {
   "cell_type": "code",
   "execution_count": 40,
   "id": "a638f1b0",
   "metadata": {},
   "outputs": [],
   "source": [
    "# balancing \n",
    "from imblearn.over_sampling import SMOTE\n",
    "sm=SMOTE()"
   ]
  },
  {
   "cell_type": "code",
   "execution_count": 41,
   "id": "355a9d8d",
   "metadata": {},
   "outputs": [],
   "source": [
    "x_sm,y_sm=sm.fit_resample(x_train,y_train)"
   ]
  },
  {
   "cell_type": "code",
   "execution_count": 42,
   "id": "41a1ff94",
   "metadata": {},
   "outputs": [
    {
     "name": "stdout",
     "output_type": "stream",
     "text": [
      "Counter({0: 210, 1: 86})\n"
     ]
    }
   ],
   "source": [
    "from collections import Counter\n",
    "print(Counter(y_train))"
   ]
  },
  {
   "cell_type": "code",
   "execution_count": 43,
   "id": "16171bff",
   "metadata": {},
   "outputs": [
    {
     "name": "stdout",
     "output_type": "stream",
     "text": [
      "Counter({1: 210, 0: 210})\n"
     ]
    }
   ],
   "source": [
    "print(Counter(y_sm))"
   ]
  },
  {
   "cell_type": "markdown",
   "id": "48263e01",
   "metadata": {},
   "source": [
    "# Model building"
   ]
  },
  {
   "cell_type": "markdown",
   "id": "9fae377c",
   "metadata": {},
   "source": [
    "# Logistic Regression"
   ]
  },
  {
   "cell_type": "code",
   "execution_count": 44,
   "id": "954bcccc",
   "metadata": {},
   "outputs": [
    {
     "data": {
      "text/plain": [
       "LogisticRegression()"
      ]
     },
     "execution_count": 44,
     "metadata": {},
     "output_type": "execute_result"
    }
   ],
   "source": [
    "from sklearn.linear_model import LogisticRegression\n",
    "LR=LogisticRegression()\n",
    "LR.fit(x_sm,y_sm)"
   ]
  },
  {
   "cell_type": "code",
   "execution_count": 45,
   "id": "02473e9a",
   "metadata": {},
   "outputs": [
    {
     "data": {
      "text/plain": [
       "array([0, 0, 1, 0, 0, 0, 0, 0, 1, 1, 0, 1, 1, 0, 1, 0, 0, 0, 1, 1, 0, 0,\n",
       "       1, 0, 0, 0, 0, 0, 1, 0, 1, 1, 1, 1, 1, 1, 1, 0, 0, 0, 0, 1, 1, 0,\n",
       "       0, 0, 0, 0, 1, 1, 1, 1, 1, 0, 0, 0, 1, 1, 0, 0, 0, 0, 1, 1, 1, 1,\n",
       "       1, 1, 1, 0, 1, 0, 0, 1, 1, 0, 0, 0, 1, 1, 1, 0, 1, 0, 1, 0, 1, 0,\n",
       "       1, 0, 1, 0, 1, 1, 0, 1, 1, 0, 0, 0, 0, 0, 0, 0, 0, 0, 1, 1, 0, 0,\n",
       "       1, 1, 0, 1, 1, 1, 1, 1, 0, 0, 1, 0, 1, 1, 1, 0, 0], dtype=int64)"
      ]
     },
     "execution_count": 45,
     "metadata": {},
     "output_type": "execute_result"
    }
   ],
   "source": [
    "y_pred=LR.predict(x_test)  # for testing data\n",
    "y_pred"
   ]
  },
  {
   "cell_type": "code",
   "execution_count": 46,
   "id": "9b095fee",
   "metadata": {},
   "outputs": [],
   "source": [
    "from sklearn.metrics import accuracy_score,confusion_matrix,classification_report,f1_score,recall_score,precision_score\n"
   ]
  },
  {
   "cell_type": "code",
   "execution_count": 47,
   "id": "284cc51e",
   "metadata": {},
   "outputs": [
    {
     "data": {
      "text/plain": [
       "0.6299212598425197"
      ]
     },
     "execution_count": 47,
     "metadata": {},
     "output_type": "execute_result"
    }
   ],
   "source": [
    "acc=accuracy_score(y_test,y_pred)\n",
    "acc"
   ]
  },
  {
   "cell_type": "code",
   "execution_count": 48,
   "id": "18b1227c",
   "metadata": {},
   "outputs": [
    {
     "data": {
      "text/plain": [
       "0.49462365591397844"
      ]
     },
     "execution_count": 48,
     "metadata": {},
     "output_type": "execute_result"
    }
   ],
   "source": [
    "f1_value=f1_score(y_test,y_pred)\n",
    "f1_value"
   ]
  },
  {
   "cell_type": "code",
   "execution_count": 49,
   "id": "c177864a",
   "metadata": {},
   "outputs": [
    {
     "name": "stdout",
     "output_type": "stream",
     "text": [
      "[[57 38]\n",
      " [ 9 23]]\n",
      "              precision    recall  f1-score   support\n",
      "\n",
      "           0       0.86      0.60      0.71        95\n",
      "           1       0.38      0.72      0.49        32\n",
      "\n",
      "    accuracy                           0.63       127\n",
      "   macro avg       0.62      0.66      0.60       127\n",
      "weighted avg       0.74      0.63      0.65       127\n",
      "\n"
     ]
    }
   ],
   "source": [
    "print(confusion_matrix(y_test,y_pred))\n",
    "print(classification_report(y_test,y_pred))"
   ]
  },
  {
   "cell_type": "code",
   "execution_count": 50,
   "id": "12149c62",
   "metadata": {},
   "outputs": [
    {
     "data": {
      "text/plain": [
       "0.6142857142857143"
      ]
     },
     "execution_count": 50,
     "metadata": {},
     "output_type": "execute_result"
    }
   ],
   "source": [
    "y_pred_train=LR.predict(x_sm)\n",
    "acc_train=accuracy_score(y_sm,y_pred_train)\n",
    "acc_train"
   ]
  },
  {
   "cell_type": "code",
   "execution_count": 51,
   "id": "06b2c58a",
   "metadata": {},
   "outputs": [
    {
     "name": "stdout",
     "output_type": "stream",
     "text": [
      "              precision    recall  f1-score   support\n",
      "\n",
      "           0       0.62      0.58      0.60       210\n",
      "           1       0.61      0.65      0.63       210\n",
      "\n",
      "    accuracy                           0.61       420\n",
      "   macro avg       0.61      0.61      0.61       420\n",
      "weighted avg       0.61      0.61      0.61       420\n",
      "\n"
     ]
    }
   ],
   "source": [
    "print(classification_report(y_sm,y_pred_train)) # for training data"
   ]
  },
  {
   "cell_type": "code",
   "execution_count": 52,
   "id": "5bbe3da3",
   "metadata": {},
   "outputs": [
    {
     "name": "stdout",
     "output_type": "stream",
     "text": [
      "0.6142857142857143\n",
      "0.6299212598425197\n"
     ]
    }
   ],
   "source": [
    "print(acc_train)\n",
    "print(acc)"
   ]
  },
  {
   "cell_type": "code",
   "execution_count": 53,
   "id": "c07f375b",
   "metadata": {},
   "outputs": [
    {
     "data": {
      "text/plain": [
       "0.6329384343553515"
      ]
     },
     "execution_count": 53,
     "metadata": {},
     "output_type": "execute_result"
    }
   ],
   "source": [
    "from sklearn.model_selection import cross_val_score\n",
    "\n",
    "cross_val=cross_val_score(LR,x_sm,y_sm,cv=3,scoring=\"f1\")\n",
    "cross=cross_val.mean()\n",
    "cross"
   ]
  },
  {
   "cell_type": "code",
   "execution_count": 54,
   "id": "1a44ab13",
   "metadata": {},
   "outputs": [],
   "source": [
    "from sklearn.metrics import roc_curve,roc_auc_score\n",
    "from sklearn import metrics"
   ]
  },
  {
   "cell_type": "code",
   "execution_count": 55,
   "id": "eef1a633",
   "metadata": {},
   "outputs": [
    {
     "data": {
      "text/plain": [
       "0.659375"
      ]
     },
     "execution_count": 55,
     "metadata": {},
     "output_type": "execute_result"
    }
   ],
   "source": [
    "roc_score=metrics.roc_auc_score(y_test,y_pred)\n",
    "roc_score"
   ]
  },
  {
   "cell_type": "markdown",
   "id": "d8e196c8",
   "metadata": {},
   "source": [
    "# KNN"
   ]
  },
  {
   "cell_type": "code",
   "execution_count": 56,
   "id": "914722fe",
   "metadata": {},
   "outputs": [],
   "source": [
    "from sklearn.neighbors import KNeighborsClassifier\n",
    "knn_model=KNeighborsClassifier()"
   ]
  },
  {
   "cell_type": "code",
   "execution_count": 57,
   "id": "5216759a",
   "metadata": {},
   "outputs": [],
   "source": [
    "error_rate=[]\n",
    "for i in range(1,20):\n",
    "    model=KNeighborsClassifier(n_neighbors=i)\n",
    "    model.fit(x_sm, y_sm)\n",
    "    y_pred_knn=model.predict(x_test)\n",
    "    error_rate.append(np.mean(y_pred_knn!=y_test))"
   ]
  },
  {
   "cell_type": "code",
   "execution_count": 58,
   "id": "e3111d11",
   "metadata": {},
   "outputs": [
    {
     "data": {
      "text/plain": [
       "[0.3700787401574803,\n",
       " 0.28346456692913385,\n",
       " 0.33070866141732286,\n",
       " 0.2992125984251969,\n",
       " 0.31496062992125984,\n",
       " 0.2992125984251969,\n",
       " 0.3228346456692913,\n",
       " 0.28346456692913385,\n",
       " 0.2992125984251969,\n",
       " 0.2440944881889764,\n",
       " 0.28346456692913385,\n",
       " 0.25984251968503935,\n",
       " 0.2755905511811024,\n",
       " 0.25984251968503935,\n",
       " 0.31496062992125984,\n",
       " 0.28346456692913385,\n",
       " 0.31496062992125984,\n",
       " 0.29133858267716534,\n",
       " 0.3228346456692913]"
      ]
     },
     "execution_count": 58,
     "metadata": {},
     "output_type": "execute_result"
    }
   ],
   "source": [
    "error_rate"
   ]
  },
  {
   "cell_type": "code",
   "execution_count": 59,
   "id": "f1a705e7",
   "metadata": {},
   "outputs": [
    {
     "data": {
      "text/plain": [
       "Text(0, 0.5, 'error_rate')"
      ]
     },
     "execution_count": 59,
     "metadata": {},
     "output_type": "execute_result"
    },
    {
     "data": {
      "image/png": "[encoded data removed]",
      "text/plain": [
       "<Figure size 500x500 with 1 Axes>"
      ]
     },
     "metadata": {},
     "output_type": "display_data"
    }
   ],
   "source": [
    "plt.figure(figsize=(5,5))\n",
    "plt.plot(range(1,20), error_rate, color='blue', linestyle='--', marker='o', markersize=6)\n",
    "plt.title(\"Error rate versus k-value\")\n",
    "plt.xlabel('k-value')\n",
    "plt.ylabel('error_rate')"
   ]
  },
  {
   "cell_type": "code",
   "execution_count": 60,
   "id": "2d500af5",
   "metadata": {},
   "outputs": [
    {
     "data": {
      "text/plain": [
       "KNeighborsClassifier(n_neighbors=12)"
      ]
     },
     "execution_count": 60,
     "metadata": {},
     "output_type": "execute_result"
    }
   ],
   "source": [
    "knn=KNeighborsClassifier(n_neighbors=12)\n",
    "knn.fit(x_sm,y_sm)"
   ]
  },
  {
   "cell_type": "code",
   "execution_count": 61,
   "id": "22f71069",
   "metadata": {},
   "outputs": [
    {
     "data": {
      "text/plain": [
       "array([0, 0, 1, 0, 0, 0, 0, 0, 1, 1, 0, 1, 1, 0, 1, 0, 0, 0, 0, 0, 1, 0,\n",
       "       0, 0, 0, 0, 0, 0, 1, 0, 0, 0, 0, 1, 1, 1, 1, 0, 0, 0, 0, 0, 0, 0,\n",
       "       0, 0, 0, 0, 1, 1, 1, 0, 0, 1, 0, 0, 0, 1, 0, 0, 0, 0, 0, 1, 0, 1,\n",
       "       1, 1, 1, 0, 0, 1, 0, 0, 1, 1, 0, 0, 0, 0, 0, 0, 0, 0, 1, 0, 0, 0,\n",
       "       1, 0, 1, 0, 1, 1, 0, 0, 0, 0, 0, 0, 0, 0, 0, 0, 0, 0, 0, 0, 1, 0,\n",
       "       1, 1, 0, 1, 0, 0, 1, 1, 0, 0, 1, 0, 0, 0, 0, 0, 0], dtype=int64)"
      ]
     },
     "execution_count": 61,
     "metadata": {},
     "output_type": "execute_result"
    }
   ],
   "source": [
    "y_pred1=knn.predict(x_test)\n",
    "y_pred1"
   ]
  },
  {
   "cell_type": "code",
   "execution_count": 62,
   "id": "b7a92bc5",
   "metadata": {},
   "outputs": [
    {
     "data": {
      "text/plain": [
       "0.7401574803149606"
      ]
     },
     "execution_count": 62,
     "metadata": {},
     "output_type": "execute_result"
    }
   ],
   "source": [
    "acc1=accuracy_score(y_test,y_pred1)\n",
    "acc1\n"
   ]
  },
  {
   "cell_type": "code",
   "execution_count": 63,
   "id": "97b9d902",
   "metadata": {},
   "outputs": [
    {
     "data": {
      "text/plain": [
       "0.5217391304347827"
      ]
     },
     "execution_count": 63,
     "metadata": {},
     "output_type": "execute_result"
    }
   ],
   "source": [
    "f1_value1=f1_score(y_test,y_pred1)\n",
    "f1_value1"
   ]
  },
  {
   "cell_type": "code",
   "execution_count": 64,
   "id": "f96a5d75",
   "metadata": {},
   "outputs": [
    {
     "name": "stdout",
     "output_type": "stream",
     "text": [
      "[[76 19]\n",
      " [14 18]]\n",
      "              precision    recall  f1-score   support\n",
      "\n",
      "           0       0.84      0.80      0.82        95\n",
      "           1       0.49      0.56      0.52        32\n",
      "\n",
      "    accuracy                           0.74       127\n",
      "   macro avg       0.67      0.68      0.67       127\n",
      "weighted avg       0.75      0.74      0.75       127\n",
      "\n"
     ]
    }
   ],
   "source": [
    "print(confusion_matrix(y_test,y_pred1))\n",
    "print(classification_report(y_test,y_pred1))"
   ]
  },
  {
   "cell_type": "code",
   "execution_count": 65,
   "id": "04077410",
   "metadata": {},
   "outputs": [],
   "source": [
    "y_pred_train1=knn.predict(x_sm)"
   ]
  },
  {
   "cell_type": "code",
   "execution_count": 66,
   "id": "fb722111",
   "metadata": {},
   "outputs": [
    {
     "data": {
      "text/plain": [
       "0.7357142857142858"
      ]
     },
     "execution_count": 66,
     "metadata": {},
     "output_type": "execute_result"
    }
   ],
   "source": [
    "acc_train1=accuracy_score(y_sm,y_pred_train1)\n",
    "acc_train1"
   ]
  },
  {
   "cell_type": "code",
   "execution_count": 67,
   "id": "f797d26c",
   "metadata": {},
   "outputs": [
    {
     "data": {
      "text/plain": [
       "0.6925318424243136"
      ]
     },
     "execution_count": 67,
     "metadata": {},
     "output_type": "execute_result"
    }
   ],
   "source": [
    "cross_val1=cross_val_score(knn,x_sm,y_sm,cv=3,scoring=\"f1\")\n",
    "cross1=cross_val1.mean()\n",
    "cross1\n"
   ]
  },
  {
   "cell_type": "code",
   "execution_count": 68,
   "id": "c28ff4c3",
   "metadata": {},
   "outputs": [
    {
     "data": {
      "text/plain": [
       "0.68125"
      ]
     },
     "execution_count": 68,
     "metadata": {},
     "output_type": "execute_result"
    }
   ],
   "source": [
    "roc_score1=metrics.roc_auc_score(y_test,y_pred1)\n",
    "roc_score1"
   ]
  },
  {
   "cell_type": "markdown",
   "id": "74115800",
   "metadata": {},
   "source": [
    "# SVM"
   ]
  },
  {
   "cell_type": "code",
   "execution_count": 69,
   "id": "45ee9098",
   "metadata": {},
   "outputs": [],
   "source": [
    "from sklearn.svm import SVC\n",
    "sv=SVC()"
   ]
  },
  {
   "cell_type": "code",
   "execution_count": 70,
   "id": "48f16c21",
   "metadata": {},
   "outputs": [
    {
     "data": {
      "text/plain": [
       "SVC()"
      ]
     },
     "execution_count": 70,
     "metadata": {},
     "output_type": "execute_result"
    }
   ],
   "source": [
    "sv.fit(x_sm,y_sm)"
   ]
  },
  {
   "cell_type": "code",
   "execution_count": 71,
   "id": "ac57f0b5",
   "metadata": {},
   "outputs": [
    {
     "data": {
      "text/plain": [
       "array([0, 0, 1, 0, 0, 0, 0, 0, 1, 1, 0, 1, 1, 0, 1, 0, 0, 0, 0, 1, 0, 0,\n",
       "       1, 0, 0, 0, 0, 0, 1, 0, 0, 0, 0, 1, 1, 1, 1, 0, 0, 0, 0, 0, 0, 0,\n",
       "       0, 0, 0, 0, 1, 1, 1, 0, 0, 0, 0, 0, 0, 1, 0, 0, 0, 0, 0, 1, 0, 1,\n",
       "       1, 1, 1, 0, 0, 0, 0, 1, 1, 0, 0, 0, 0, 1, 0, 0, 0, 0, 1, 0, 0, 0,\n",
       "       1, 0, 1, 0, 1, 1, 0, 0, 0, 0, 0, 0, 0, 0, 0, 0, 0, 0, 0, 0, 0, 0,\n",
       "       1, 1, 0, 1, 0, 0, 1, 1, 0, 0, 1, 0, 1, 0, 0, 0, 0], dtype=int64)"
      ]
     },
     "execution_count": 71,
     "metadata": {},
     "output_type": "execute_result"
    }
   ],
   "source": [
    "y_pred2=sv.predict(x_test) # for testing data\n",
    "y_pred2"
   ]
  },
  {
   "cell_type": "code",
   "execution_count": 72,
   "id": "72f096de",
   "metadata": {},
   "outputs": [
    {
     "data": {
      "text/plain": [
       "0.7244094488188977"
      ]
     },
     "execution_count": 72,
     "metadata": {},
     "output_type": "execute_result"
    }
   ],
   "source": [
    "acc2=accuracy_score(y_test,y_pred2) \n",
    "acc2"
   ]
  },
  {
   "cell_type": "code",
   "execution_count": 73,
   "id": "0aaa7da2",
   "metadata": {},
   "outputs": [
    {
     "data": {
      "text/plain": [
       "0.4927536231884059"
      ]
     },
     "execution_count": 73,
     "metadata": {},
     "output_type": "execute_result"
    }
   ],
   "source": [
    "f1_value2=f1_score(y_test,y_pred2)\n",
    "f1_value2"
   ]
  },
  {
   "cell_type": "code",
   "execution_count": 74,
   "id": "5d5bffb2",
   "metadata": {},
   "outputs": [
    {
     "name": "stdout",
     "output_type": "stream",
     "text": [
      "[[75 20]\n",
      " [15 17]]\n",
      "              precision    recall  f1-score   support\n",
      "\n",
      "           0       0.83      0.79      0.81        95\n",
      "           1       0.46      0.53      0.49        32\n",
      "\n",
      "    accuracy                           0.72       127\n",
      "   macro avg       0.65      0.66      0.65       127\n",
      "weighted avg       0.74      0.72      0.73       127\n",
      "\n"
     ]
    }
   ],
   "source": [
    "print(confusion_matrix(y_test,y_pred2))\n",
    "print(classification_report(y_test,y_pred2))"
   ]
  },
  {
   "cell_type": "code",
   "execution_count": 75,
   "id": "f65f4812",
   "metadata": {},
   "outputs": [
    {
     "data": {
      "text/plain": [
       "array([1, 0, 0, 1, 0, 0, 1, 0, 1, 1, 0, 1, 0, 1, 0, 0, 0, 1, 0, 0, 0, 0,\n",
       "       0, 1, 0, 0, 0, 0, 1, 1, 0, 0, 0, 0, 0, 1, 0, 1, 0, 1, 1, 0, 1, 0,\n",
       "       0, 1, 0, 0, 0, 0, 0, 0, 1, 1, 1, 0, 0, 1, 0, 0, 0, 0, 1, 0, 0, 0,\n",
       "       1, 0, 0, 1, 0, 0, 1, 1, 1, 0, 1, 1, 0, 1, 1, 1, 0, 0, 0, 1, 1, 0,\n",
       "       0, 0, 0, 1, 0, 0, 1, 0, 1, 0, 0, 0, 1, 0, 0, 1, 0, 0, 1, 0, 0, 1,\n",
       "       0, 0, 0, 0, 0, 1, 1, 0, 0, 0, 1, 0, 1, 0, 0, 0, 0, 0, 1, 0, 1, 0,\n",
       "       0, 0, 0, 0, 1, 1, 0, 1, 0, 0, 0, 0, 0, 0, 1, 0, 0, 1, 0, 0, 0, 0,\n",
       "       0, 0, 0, 0, 0, 1, 1, 0, 0, 0, 1, 1, 0, 0, 0, 1, 0, 0, 1, 0, 1, 0,\n",
       "       0, 1, 1, 0, 1, 0, 1, 0, 0, 0, 0, 0, 1, 1, 1, 0, 0, 0, 1, 1, 0, 0,\n",
       "       0, 1, 0, 0, 0, 0, 1, 0, 0, 0, 0, 0, 0, 0, 1, 0, 0, 1, 0, 0, 1, 0,\n",
       "       0, 0, 0, 1, 0, 0, 0, 1, 0, 1, 0, 0, 0, 0, 0, 0, 0, 0, 1, 0, 0, 0,\n",
       "       0, 0, 0, 0, 0, 0, 1, 1, 0, 0, 1, 1, 1, 0, 1, 0, 0, 0, 0, 0, 0, 0,\n",
       "       1, 1, 0, 0, 0, 0, 0, 1, 1, 0, 0, 1, 0, 0, 0, 0, 0, 0, 0, 0, 1, 1,\n",
       "       0, 0, 0, 1, 0, 0, 0, 1, 0, 0, 1, 1, 0, 1, 1, 0, 0, 1, 1, 1, 1, 1,\n",
       "       0, 1, 1, 1, 0, 1, 1, 1, 1, 0, 1, 0, 1, 1, 0, 0, 1, 1, 1, 1, 1, 1,\n",
       "       0, 1, 1, 1, 1, 1, 0, 1, 1, 1, 1, 0, 1, 1, 1, 0, 1, 1, 1, 1, 0, 0,\n",
       "       1, 1, 1, 1, 1, 1, 1, 1, 1, 0, 0, 0, 0, 0, 0, 1, 1, 0, 1, 1, 0, 1,\n",
       "       1, 0, 1, 0, 1, 1, 1, 1, 0, 0, 0, 1, 1, 1, 1, 0, 1, 0, 1, 1, 1, 1,\n",
       "       1, 1, 1, 1, 1, 0, 1, 1, 1, 0, 0, 0, 1, 1, 0, 1, 1, 0, 1, 0, 0, 0,\n",
       "       0, 0], dtype=int64)"
      ]
     },
     "execution_count": 75,
     "metadata": {},
     "output_type": "execute_result"
    }
   ],
   "source": [
    "y_pred_train2=sv.predict(x_sm) # for training data\n",
    "y_pred_train2"
   ]
  },
  {
   "cell_type": "code",
   "execution_count": 76,
   "id": "f6b551dd",
   "metadata": {},
   "outputs": [
    {
     "data": {
      "text/plain": [
       "0.7166666666666667"
      ]
     },
     "execution_count": 76,
     "metadata": {},
     "output_type": "execute_result"
    }
   ],
   "source": [
    "acc_train2=accuracy_score(y_sm,y_pred_train2) # for testing data\n",
    "acc_train2"
   ]
  },
  {
   "cell_type": "code",
   "execution_count": 77,
   "id": "67a027b3",
   "metadata": {},
   "outputs": [
    {
     "name": "stdout",
     "output_type": "stream",
     "text": [
      "0.7166666666666667\n",
      "0.7244094488188977\n"
     ]
    }
   ],
   "source": [
    "print(acc_train2)\n",
    "print(acc2)"
   ]
  },
  {
   "cell_type": "code",
   "execution_count": 78,
   "id": "22204462",
   "metadata": {},
   "outputs": [
    {
     "data": {
      "text/plain": [
       "0.6788598191214469"
      ]
     },
     "execution_count": 78,
     "metadata": {},
     "output_type": "execute_result"
    }
   ],
   "source": [
    "cross_val2=cross_val_score(sv,x_sm,y_sm,cv=3,scoring=\"f1\")\n",
    "cross2=cross_val2.mean()\n",
    "cross2"
   ]
  },
  {
   "cell_type": "code",
   "execution_count": 79,
   "id": "cf3065aa",
   "metadata": {},
   "outputs": [
    {
     "data": {
      "text/plain": [
       "0.6603618421052632"
      ]
     },
     "execution_count": 79,
     "metadata": {},
     "output_type": "execute_result"
    }
   ],
   "source": [
    "roc_score2=metrics.roc_auc_score(y_test,y_pred2)\n",
    "roc_score2"
   ]
  },
  {
   "cell_type": "markdown",
   "id": "01ee44b2",
   "metadata": {},
   "source": [
    "# Decision Tree"
   ]
  },
  {
   "cell_type": "code",
   "execution_count": 80,
   "id": "5b045420",
   "metadata": {},
   "outputs": [
    {
     "data": {
      "text/plain": [
       "DecisionTreeClassifier()"
      ]
     },
     "execution_count": 80,
     "metadata": {},
     "output_type": "execute_result"
    }
   ],
   "source": [
    "from sklearn.tree import DecisionTreeClassifier\n",
    "dt=DecisionTreeClassifier()\n",
    "dt.fit(x_sm,y_sm)"
   ]
  },
  {
   "cell_type": "code",
   "execution_count": 81,
   "id": "8cfdc9f7",
   "metadata": {},
   "outputs": [],
   "source": [
    "y_pred3=dt.predict(x_test)"
   ]
  },
  {
   "cell_type": "code",
   "execution_count": 82,
   "id": "c8056cbc",
   "metadata": {},
   "outputs": [
    {
     "data": {
      "text/plain": [
       "0.6062992125984252"
      ]
     },
     "execution_count": 82,
     "metadata": {},
     "output_type": "execute_result"
    }
   ],
   "source": [
    "acc3=accuracy_score(y_test,y_pred3) # for testing data\n",
    "acc3"
   ]
  },
  {
   "cell_type": "code",
   "execution_count": 83,
   "id": "5eaa1a17",
   "metadata": {},
   "outputs": [
    {
     "data": {
      "text/plain": [
       "0.2857142857142857"
      ]
     },
     "execution_count": 83,
     "metadata": {},
     "output_type": "execute_result"
    }
   ],
   "source": [
    "f1_value3=f1_score(y_test,y_pred3)\n",
    "f1_value3"
   ]
  },
  {
   "cell_type": "code",
   "execution_count": 84,
   "id": "8e4037e6",
   "metadata": {},
   "outputs": [
    {
     "name": "stdout",
     "output_type": "stream",
     "text": [
      "[[57 38]\n",
      " [ 9 23]]\n",
      "              precision    recall  f1-score   support\n",
      "\n",
      "           0       0.86      0.60      0.71        95\n",
      "           1       0.38      0.72      0.49        32\n",
      "\n",
      "    accuracy                           0.63       127\n",
      "   macro avg       0.62      0.66      0.60       127\n",
      "weighted avg       0.74      0.63      0.65       127\n",
      "\n"
     ]
    }
   ],
   "source": [
    "print(confusion_matrix(y_test,y_pred))\n",
    "print(classification_report(y_test,y_pred))"
   ]
  },
  {
   "cell_type": "code",
   "execution_count": 85,
   "id": "145a598f",
   "metadata": {},
   "outputs": [],
   "source": [
    "y_pred_train3=dt.predict(x_sm)"
   ]
  },
  {
   "cell_type": "code",
   "execution_count": 86,
   "id": "5e629d1c",
   "metadata": {},
   "outputs": [
    {
     "data": {
      "text/plain": [
       "0.969047619047619"
      ]
     },
     "execution_count": 86,
     "metadata": {},
     "output_type": "execute_result"
    }
   ],
   "source": [
    "acc_train3=accuracy_score(y_sm,y_pred_train3) # for training data\n",
    "acc_train3"
   ]
  },
  {
   "cell_type": "code",
   "execution_count": 87,
   "id": "befdb4a3",
   "metadata": {},
   "outputs": [
    {
     "name": "stdout",
     "output_type": "stream",
     "text": [
      "0.969047619047619\n",
      "0.6062992125984252\n"
     ]
    }
   ],
   "source": [
    "print(acc_train3)\n",
    "print(acc3)"
   ]
  },
  {
   "cell_type": "code",
   "execution_count": 88,
   "id": "222032b0",
   "metadata": {},
   "outputs": [
    {
     "data": {
      "text/plain": [
       "0.6918171344586805"
      ]
     },
     "execution_count": 88,
     "metadata": {},
     "output_type": "execute_result"
    }
   ],
   "source": [
    "cross_val3=cross_val_score(dt,x_sm,y_sm,cv=3,scoring=\"f1\")\n",
    "cross3=cross_val3.mean()\n",
    "cross3"
   ]
  },
  {
   "cell_type": "code",
   "execution_count": 89,
   "id": "72b0c941",
   "metadata": {},
   "outputs": [
    {
     "name": "stdout",
     "output_type": "stream",
     "text": [
      "              precision    recall  f1-score   support\n",
      "\n",
      "           0       0.75      0.71      0.73        95\n",
      "           1       0.26      0.31      0.29        32\n",
      "\n",
      "    accuracy                           0.61       127\n",
      "   macro avg       0.51      0.51      0.51       127\n",
      "weighted avg       0.63      0.61      0.62       127\n",
      "\n"
     ]
    }
   ],
   "source": [
    "print(classification_report(y_test,y_pred3))"
   ]
  },
  {
   "cell_type": "code",
   "execution_count": 90,
   "id": "fcd81e49",
   "metadata": {},
   "outputs": [
    {
     "name": "stdout",
     "output_type": "stream",
     "text": [
      "              precision    recall  f1-score   support\n",
      "\n",
      "           0       0.94      1.00      0.97       210\n",
      "           1       1.00      0.94      0.97       210\n",
      "\n",
      "    accuracy                           0.97       420\n",
      "   macro avg       0.97      0.97      0.97       420\n",
      "weighted avg       0.97      0.97      0.97       420\n",
      "\n"
     ]
    }
   ],
   "source": [
    "print(classification_report(y_sm,y_pred_train3))"
   ]
  },
  {
   "cell_type": "code",
   "execution_count": 91,
   "id": "b3ce15b1",
   "metadata": {},
   "outputs": [
    {
     "data": {
      "text/plain": [
       "0.5088815789473684"
      ]
     },
     "execution_count": 91,
     "metadata": {},
     "output_type": "execute_result"
    }
   ],
   "source": [
    "roc_score3=metrics.roc_auc_score(y_test,y_pred3)\n",
    "roc_score3"
   ]
  },
  {
   "cell_type": "markdown",
   "id": "812558b6",
   "metadata": {},
   "source": [
    "# Randonm forest"
   ]
  },
  {
   "cell_type": "code",
   "execution_count": 92,
   "id": "f6574c82",
   "metadata": {},
   "outputs": [
    {
     "data": {
      "text/plain": [
       "RandomForestClassifier()"
      ]
     },
     "execution_count": 92,
     "metadata": {},
     "output_type": "execute_result"
    }
   ],
   "source": [
    "from sklearn.ensemble import RandomForestClassifier\n",
    "rf=RandomForestClassifier()\n",
    "rf.fit(x_sm,y_sm)"
   ]
  },
  {
   "cell_type": "code",
   "execution_count": 93,
   "id": "45908337",
   "metadata": {},
   "outputs": [],
   "source": [
    "y_pred4=rf.predict(x_test)"
   ]
  },
  {
   "cell_type": "code",
   "execution_count": 94,
   "id": "c064cdec",
   "metadata": {},
   "outputs": [
    {
     "data": {
      "text/plain": [
       "0.6929133858267716"
      ]
     },
     "execution_count": 94,
     "metadata": {},
     "output_type": "execute_result"
    }
   ],
   "source": [
    "acc4=accuracy_score(y_test,y_pred4)\n",
    "acc4"
   ]
  },
  {
   "cell_type": "code",
   "execution_count": 95,
   "id": "f7a1ffd4",
   "metadata": {},
   "outputs": [
    {
     "data": {
      "text/plain": [
       "0.3389830508474576"
      ]
     },
     "execution_count": 95,
     "metadata": {},
     "output_type": "execute_result"
    }
   ],
   "source": [
    "f1_value4=f1_score(y_test,y_pred4)\n",
    "f1_value4"
   ]
  },
  {
   "cell_type": "code",
   "execution_count": 96,
   "id": "5312ab24",
   "metadata": {},
   "outputs": [
    {
     "name": "stdout",
     "output_type": "stream",
     "text": [
      "[[57 38]\n",
      " [ 9 23]]\n",
      "              precision    recall  f1-score   support\n",
      "\n",
      "           0       0.86      0.60      0.71        95\n",
      "           1       0.38      0.72      0.49        32\n",
      "\n",
      "    accuracy                           0.63       127\n",
      "   macro avg       0.62      0.66      0.60       127\n",
      "weighted avg       0.74      0.63      0.65       127\n",
      "\n"
     ]
    }
   ],
   "source": [
    "print(confusion_matrix(y_test,y_pred))\n",
    "print(classification_report(y_test,y_pred))"
   ]
  },
  {
   "cell_type": "code",
   "execution_count": 97,
   "id": "e0b23015",
   "metadata": {},
   "outputs": [],
   "source": [
    "y_pred_train4=rf.predict(x_sm)\n"
   ]
  },
  {
   "cell_type": "code",
   "execution_count": 98,
   "id": "b333f5c4",
   "metadata": {},
   "outputs": [
    {
     "data": {
      "text/plain": [
       "0.969047619047619"
      ]
     },
     "execution_count": 98,
     "metadata": {},
     "output_type": "execute_result"
    }
   ],
   "source": [
    "acc_train4=accuracy_score(y_sm,y_pred_train4)\n",
    "acc_train4"
   ]
  },
  {
   "cell_type": "code",
   "execution_count": 99,
   "id": "b1708119",
   "metadata": {},
   "outputs": [
    {
     "name": "stdout",
     "output_type": "stream",
     "text": [
      "0.969047619047619\n",
      "0.6929133858267716\n"
     ]
    }
   ],
   "source": [
    "print(acc_train4)\n",
    "print(acc4)"
   ]
  },
  {
   "cell_type": "code",
   "execution_count": 100,
   "id": "730921ee",
   "metadata": {},
   "outputs": [
    {
     "data": {
      "text/plain": [
       "0.7501525054466232"
      ]
     },
     "execution_count": 100,
     "metadata": {},
     "output_type": "execute_result"
    }
   ],
   "source": [
    "cross_val4=cross_val_score(rf,x_sm,y_sm,cv=3,scoring=\"f1\")\n",
    "cross4=cross_val4.mean()\n",
    "cross4"
   ]
  },
  {
   "cell_type": "code",
   "execution_count": 101,
   "id": "ffcf5886",
   "metadata": {},
   "outputs": [
    {
     "data": {
      "text/plain": [
       "0.5667763157894737"
      ]
     },
     "execution_count": 101,
     "metadata": {},
     "output_type": "execute_result"
    }
   ],
   "source": [
    "roc_score4=metrics.roc_auc_score(y_test,y_pred4)\n",
    "roc_score4"
   ]
  },
  {
   "cell_type": "markdown",
   "id": "bfc341a1",
   "metadata": {},
   "source": [
    "# Gradient Boosting"
   ]
  },
  {
   "cell_type": "code",
   "execution_count": 102,
   "id": "0a935b81",
   "metadata": {},
   "outputs": [
    {
     "data": {
      "text/plain": [
       "GradientBoostingClassifier()"
      ]
     },
     "execution_count": 102,
     "metadata": {},
     "output_type": "execute_result"
    }
   ],
   "source": [
    "from sklearn.ensemble import GradientBoostingClassifier\n",
    "gb=GradientBoostingClassifier()\n",
    "gb.fit(x_sm,y_sm)"
   ]
  },
  {
   "cell_type": "code",
   "execution_count": 103,
   "id": "90d73cad",
   "metadata": {},
   "outputs": [],
   "source": [
    "y_pred5=gb.predict(x_test)"
   ]
  },
  {
   "cell_type": "code",
   "execution_count": 104,
   "id": "e776e648",
   "metadata": {},
   "outputs": [
    {
     "data": {
      "text/plain": [
       "0.7086614173228346"
      ]
     },
     "execution_count": 104,
     "metadata": {},
     "output_type": "execute_result"
    }
   ],
   "source": [
    "acc5=accuracy_score(y_test,y_pred5)\n",
    "acc5"
   ]
  },
  {
   "cell_type": "code",
   "execution_count": 105,
   "id": "9973f435",
   "metadata": {},
   "outputs": [
    {
     "data": {
      "text/plain": [
       "0.43076923076923074"
      ]
     },
     "execution_count": 105,
     "metadata": {},
     "output_type": "execute_result"
    }
   ],
   "source": [
    "f1_value5=f1_score(y_test,y_pred5)\n",
    "f1_value5"
   ]
  },
  {
   "cell_type": "code",
   "execution_count": 106,
   "id": "ba7587ff",
   "metadata": {},
   "outputs": [
    {
     "name": "stdout",
     "output_type": "stream",
     "text": [
      "[[76 19]\n",
      " [18 14]]\n",
      "              precision    recall  f1-score   support\n",
      "\n",
      "           0       0.81      0.80      0.80        95\n",
      "           1       0.42      0.44      0.43        32\n",
      "\n",
      "    accuracy                           0.71       127\n",
      "   macro avg       0.62      0.62      0.62       127\n",
      "weighted avg       0.71      0.71      0.71       127\n",
      "\n"
     ]
    }
   ],
   "source": [
    "print(confusion_matrix(y_test,y_pred5))\n",
    "print(classification_report(y_test,y_pred5))"
   ]
  },
  {
   "cell_type": "code",
   "execution_count": 107,
   "id": "94fe76dd",
   "metadata": {},
   "outputs": [],
   "source": [
    "y_pred_train5=gb.predict(x_sm)"
   ]
  },
  {
   "cell_type": "code",
   "execution_count": 108,
   "id": "a247a721",
   "metadata": {},
   "outputs": [
    {
     "data": {
      "text/plain": [
       "0.8809523809523809"
      ]
     },
     "execution_count": 108,
     "metadata": {},
     "output_type": "execute_result"
    }
   ],
   "source": [
    "acc_train5=accuracy_score(y_sm,y_pred_train5)\n",
    "acc_train5"
   ]
  },
  {
   "cell_type": "code",
   "execution_count": 109,
   "id": "2a6509ec",
   "metadata": {},
   "outputs": [
    {
     "name": "stdout",
     "output_type": "stream",
     "text": [
      "0.8809523809523809\n",
      "0.7086614173228346\n"
     ]
    }
   ],
   "source": [
    "print(acc_train5)\n",
    "print(acc5)"
   ]
  },
  {
   "cell_type": "code",
   "execution_count": 110,
   "id": "1a1ed2c6",
   "metadata": {},
   "outputs": [
    {
     "data": {
      "text/plain": [
       "0.7271599838889985"
      ]
     },
     "execution_count": 110,
     "metadata": {},
     "output_type": "execute_result"
    }
   ],
   "source": [
    "cross_val5=cross_val_score(gb,x_sm,y_sm,cv=3,scoring=\"f1\")\n",
    "cross5=cross_val5.mean()\n",
    "cross5"
   ]
  },
  {
   "cell_type": "code",
   "execution_count": 111,
   "id": "9cf2b72d",
   "metadata": {},
   "outputs": [
    {
     "data": {
      "text/plain": [
       "0.61875"
      ]
     },
     "execution_count": 111,
     "metadata": {},
     "output_type": "execute_result"
    }
   ],
   "source": [
    "roc_score5=metrics.roc_auc_score(y_test,y_pred5)\n",
    "roc_score5"
   ]
  },
  {
   "cell_type": "markdown",
   "id": "74a505d2",
   "metadata": {},
   "source": [
    "# Xg boost"
   ]
  },
  {
   "cell_type": "code",
   "execution_count": 112,
   "id": "8a11c71c",
   "metadata": {},
   "outputs": [],
   "source": [
    "from xgboost import XGBClassifier\n",
    "xg=XGBClassifier()\n"
   ]
  },
  {
   "cell_type": "code",
   "execution_count": 113,
   "id": "cf907997",
   "metadata": {},
   "outputs": [
    {
     "data": {
      "text/plain": [
       "XGBClassifier(base_score=None, booster=None, callbacks=None,\n",
       "              colsample_bylevel=None, colsample_bynode=None,\n",
       "              colsample_bytree=None, early_stopping_rounds=None,\n",
       "              enable_categorical=False, eval_metric=None, feature_types=None,\n",
       "              gamma=None, gpu_id=None, grow_policy=None, importance_type=None,\n",
       "              interaction_constraints=None, learning_rate=None, max_bin=None,\n",
       "              max_cat_threshold=None, max_cat_to_onehot=None,\n",
       "              max_delta_step=None, max_depth=None, max_leaves=None,\n",
       "              min_child_weight=None, missing=nan, monotone_constraints=None,\n",
       "              n_estimators=100, n_jobs=None, num_parallel_tree=None,\n",
       "              predictor=None, random_state=None, ...)"
      ]
     },
     "execution_count": 113,
     "metadata": {},
     "output_type": "execute_result"
    }
   ],
   "source": [
    "xg.fit(x_sm,y_sm)"
   ]
  },
  {
   "cell_type": "code",
   "execution_count": 114,
   "id": "7c8a760f",
   "metadata": {},
   "outputs": [],
   "source": [
    "y_pred6=xg.predict(x_test)"
   ]
  },
  {
   "cell_type": "code",
   "execution_count": 115,
   "id": "265cb210",
   "metadata": {},
   "outputs": [
    {
     "data": {
      "text/plain": [
       "0.6535433070866141"
      ]
     },
     "execution_count": 115,
     "metadata": {},
     "output_type": "execute_result"
    }
   ],
   "source": [
    "acc6=accuracy_score(y_test,y_pred6)\n",
    "acc6"
   ]
  },
  {
   "cell_type": "code",
   "execution_count": 116,
   "id": "fea30ddb",
   "metadata": {},
   "outputs": [
    {
     "data": {
      "text/plain": [
       "0.26666666666666666"
      ]
     },
     "execution_count": 116,
     "metadata": {},
     "output_type": "execute_result"
    }
   ],
   "source": [
    "f1_value6=f1_score(y_test,y_pred6)\n",
    "f1_value6"
   ]
  },
  {
   "cell_type": "code",
   "execution_count": 117,
   "id": "94bc63ec",
   "metadata": {},
   "outputs": [
    {
     "name": "stdout",
     "output_type": "stream",
     "text": [
      "[[75 20]\n",
      " [24  8]]\n",
      "              precision    recall  f1-score   support\n",
      "\n",
      "           0       0.76      0.79      0.77        95\n",
      "           1       0.29      0.25      0.27        32\n",
      "\n",
      "    accuracy                           0.65       127\n",
      "   macro avg       0.52      0.52      0.52       127\n",
      "weighted avg       0.64      0.65      0.65       127\n",
      "\n"
     ]
    }
   ],
   "source": [
    "print(confusion_matrix(y_test,y_pred6))\n",
    "print(classification_report(y_test,y_pred6))"
   ]
  },
  {
   "cell_type": "code",
   "execution_count": 118,
   "id": "17a56625",
   "metadata": {},
   "outputs": [],
   "source": [
    "y_pred_train6=xg.predict(x_sm)"
   ]
  },
  {
   "cell_type": "code",
   "execution_count": 119,
   "id": "22890a5e",
   "metadata": {},
   "outputs": [
    {
     "data": {
      "text/plain": [
       "0.969047619047619"
      ]
     },
     "execution_count": 119,
     "metadata": {},
     "output_type": "execute_result"
    }
   ],
   "source": [
    "acc_train6=accuracy_score(y_sm,y_pred_train6)\n",
    "acc_train6"
   ]
  },
  {
   "cell_type": "code",
   "execution_count": 120,
   "id": "3b13207f",
   "metadata": {},
   "outputs": [
    {
     "name": "stdout",
     "output_type": "stream",
     "text": [
      "0.969047619047619\n",
      "0.6535433070866141\n"
     ]
    }
   ],
   "source": [
    "print(acc_train6)\n",
    "print(acc6)"
   ]
  },
  {
   "cell_type": "code",
   "execution_count": 121,
   "id": "7cdb99db",
   "metadata": {},
   "outputs": [
    {
     "data": {
      "text/plain": [
       "0.7256715091064745"
      ]
     },
     "execution_count": 121,
     "metadata": {},
     "output_type": "execute_result"
    }
   ],
   "source": [
    "cross_val6=cross_val_score(xg,x_sm,y_sm,cv=3,scoring=\"f1\")\n",
    "cross6=cross_val6.mean()\n",
    "cross6"
   ]
  },
  {
   "cell_type": "code",
   "execution_count": 122,
   "id": "f6ce731a",
   "metadata": {},
   "outputs": [
    {
     "data": {
      "text/plain": [
       "0.5197368421052632"
      ]
     },
     "execution_count": 122,
     "metadata": {},
     "output_type": "execute_result"
    }
   ],
   "source": [
    "roc_score6=metrics.roc_auc_score(y_test,y_pred6)\n",
    "roc_score6"
   ]
  },
  {
   "cell_type": "markdown",
   "id": "d0d71a99",
   "metadata": {},
   "source": [
    "# ANN"
   ]
  },
  {
   "cell_type": "code",
   "execution_count": 123,
   "id": "5805a6b9",
   "metadata": {},
   "outputs": [],
   "source": [
    "from sklearn.neural_network import MLPClassifier\n",
    "mlp=MLPClassifier(hidden_layer_sizes=(50,2),learning_rate_init=0.1,max_iter=3,random_state=2)"
   ]
  },
  {
   "cell_type": "code",
   "execution_count": 124,
   "id": "505804cd",
   "metadata": {},
   "outputs": [
    {
     "data": {
      "text/plain": [
       "MLPClassifier(hidden_layer_sizes=(50, 2), learning_rate_init=0.1, max_iter=3,\n",
       "              random_state=2)"
      ]
     },
     "execution_count": 124,
     "metadata": {},
     "output_type": "execute_result"
    }
   ],
   "source": [
    "mlp.fit(x_sm,y_sm)\n"
   ]
  },
  {
   "cell_type": "code",
   "execution_count": 125,
   "id": "da3b6e17",
   "metadata": {},
   "outputs": [
    {
     "data": {
      "text/plain": [
       "0.48031496062992124"
      ]
     },
     "execution_count": 125,
     "metadata": {},
     "output_type": "execute_result"
    }
   ],
   "source": [
    "y_pred7=mlp.predict(x_test)\n",
    "acc7=accuracy_score(y_test,y_pred7)\n",
    "acc7"
   ]
  },
  {
   "cell_type": "code",
   "execution_count": 126,
   "id": "f6276a16",
   "metadata": {},
   "outputs": [
    {
     "data": {
      "text/plain": [
       "0.467741935483871"
      ]
     },
     "execution_count": 126,
     "metadata": {},
     "output_type": "execute_result"
    }
   ],
   "source": [
    "f1_value7=f1_score(y_test,y_pred7)\n",
    "f1_value7"
   ]
  },
  {
   "cell_type": "code",
   "execution_count": 127,
   "id": "56a06bcd",
   "metadata": {},
   "outputs": [
    {
     "name": "stdout",
     "output_type": "stream",
     "text": [
      "[[32 63]\n",
      " [ 3 29]]\n",
      "              precision    recall  f1-score   support\n",
      "\n",
      "           0       0.91      0.34      0.49        95\n",
      "           1       0.32      0.91      0.47        32\n",
      "\n",
      "    accuracy                           0.48       127\n",
      "   macro avg       0.61      0.62      0.48       127\n",
      "weighted avg       0.76      0.48      0.49       127\n",
      "\n"
     ]
    }
   ],
   "source": [
    "print(confusion_matrix(y_test,y_pred7))\n",
    "print(classification_report(y_test,y_pred7))"
   ]
  },
  {
   "cell_type": "code",
   "execution_count": 128,
   "id": "a716430e",
   "metadata": {},
   "outputs": [
    {
     "data": {
      "text/plain": [
       "0.611904761904762"
      ]
     },
     "execution_count": 128,
     "metadata": {},
     "output_type": "execute_result"
    }
   ],
   "source": [
    "y_pred_train7=mlp.predict(x_sm)\n",
    "acc_train7=accuracy_score(y_sm,y_pred_train7)\n",
    "acc_train7"
   ]
  },
  {
   "cell_type": "code",
   "execution_count": 129,
   "id": "46d0dc02",
   "metadata": {},
   "outputs": [
    {
     "data": {
      "text/plain": [
       "0.661705761649228"
      ]
     },
     "execution_count": 129,
     "metadata": {},
     "output_type": "execute_result"
    }
   ],
   "source": [
    "cross_val7=cross_val_score(mlp,x_sm,y_sm,cv=3,scoring=\"f1\")\n",
    "cross7=cross_val7.mean()\n",
    "cross7"
   ]
  },
  {
   "cell_type": "code",
   "execution_count": 130,
   "id": "dfe967d9",
   "metadata": {},
   "outputs": [
    {
     "data": {
      "text/plain": [
       "0.621546052631579"
      ]
     },
     "execution_count": 130,
     "metadata": {},
     "output_type": "execute_result"
    }
   ],
   "source": [
    "roc_score7=metrics.roc_auc_score(y_test,y_pred7)\n",
    "roc_score7"
   ]
  },
  {
   "cell_type": "code",
   "execution_count": 131,
   "id": "7437cb8c",
   "metadata": {},
   "outputs": [],
   "source": [
    "dict={\"model\":[\"LogisticRegression\",\"knn\",\"SVM\",\"decision tree\",\"gradient boosting\",\"random forest\",\"xgboost\",\"ANN\"],\n",
    "     'accuracy_train':[acc_train,acc_train1,acc_train2,acc_train3,acc_train4,acc_train5,acc_train6,acc_train7],\n",
    "     \"accuracy_test\":[acc,acc1,acc2,acc3,acc4,acc5,acc6,acc7],\n",
    "      \"f1-score\":[f1_value,f1_value1,f1_value2,f1_value3,f1_value4,f1_value5,f1_value6,f1_value7],\n",
    "     \"cross_val_score\":[cross,cross1,cross2,cross3,cross4,cross5,cross6,cross7],\n",
    "     \"roc_score\":[roc_score,roc_score1,roc_score2,roc_score3,roc_score4,roc_score5,roc_score6,roc_score7]}"
   ]
  },
  {
   "cell_type": "code",
   "execution_count": 132,
   "id": "09513e03",
   "metadata": {},
   "outputs": [
    {
     "data": {
      "text/html": [
       "<div>\n",
       "<style scoped>\n",
       "    .dataframe tbody tr th:only-of-type {\n",
       "        vertical-align: middle;\n",
       "    }\n",
       "\n",
       "    .dataframe tbody tr th {\n",
       "        vertical-align: top;\n",
       "    }\n",
       "\n",
       "    .dataframe thead th {\n",
       "        text-align: right;\n",
       "    }\n",
       "</style>\n",
       "<table border=\"1\" class=\"dataframe\">\n",
       "  <thead>\n",
       "    <tr style=\"text-align: right;\">\n",
       "      <th></th>\n",
       "      <th>model</th>\n",
       "      <th>accuracy_train</th>\n",
       "      <th>accuracy_test</th>\n",
       "      <th>f1-score</th>\n",
       "      <th>cross_val_score</th>\n",
       "      <th>roc_score</th>\n",
       "    </tr>\n",
       "  </thead>\n",
       "  <tbody>\n",
       "    <tr>\n",
       "      <th>0</th>\n",
       "      <td>LogisticRegression</td>\n",
       "      <td>0.614286</td>\n",
       "      <td>0.629921</td>\n",
       "      <td>0.494624</td>\n",
       "      <td>0.632938</td>\n",
       "      <td>0.659375</td>\n",
       "    </tr>\n",
       "    <tr>\n",
       "      <th>1</th>\n",
       "      <td>knn</td>\n",
       "      <td>0.735714</td>\n",
       "      <td>0.740157</td>\n",
       "      <td>0.521739</td>\n",
       "      <td>0.692532</td>\n",
       "      <td>0.681250</td>\n",
       "    </tr>\n",
       "    <tr>\n",
       "      <th>2</th>\n",
       "      <td>SVM</td>\n",
       "      <td>0.716667</td>\n",
       "      <td>0.724409</td>\n",
       "      <td>0.492754</td>\n",
       "      <td>0.678860</td>\n",
       "      <td>0.660362</td>\n",
       "    </tr>\n",
       "    <tr>\n",
       "      <th>3</th>\n",
       "      <td>decision tree</td>\n",
       "      <td>0.969048</td>\n",
       "      <td>0.606299</td>\n",
       "      <td>0.285714</td>\n",
       "      <td>0.691817</td>\n",
       "      <td>0.508882</td>\n",
       "    </tr>\n",
       "    <tr>\n",
       "      <th>4</th>\n",
       "      <td>gradient boosting</td>\n",
       "      <td>0.969048</td>\n",
       "      <td>0.692913</td>\n",
       "      <td>0.338983</td>\n",
       "      <td>0.750153</td>\n",
       "      <td>0.566776</td>\n",
       "    </tr>\n",
       "    <tr>\n",
       "      <th>5</th>\n",
       "      <td>random forest</td>\n",
       "      <td>0.880952</td>\n",
       "      <td>0.708661</td>\n",
       "      <td>0.430769</td>\n",
       "      <td>0.727160</td>\n",
       "      <td>0.618750</td>\n",
       "    </tr>\n",
       "    <tr>\n",
       "      <th>6</th>\n",
       "      <td>xgboost</td>\n",
       "      <td>0.969048</td>\n",
       "      <td>0.653543</td>\n",
       "      <td>0.266667</td>\n",
       "      <td>0.725672</td>\n",
       "      <td>0.519737</td>\n",
       "    </tr>\n",
       "    <tr>\n",
       "      <th>7</th>\n",
       "      <td>ANN</td>\n",
       "      <td>0.611905</td>\n",
       "      <td>0.480315</td>\n",
       "      <td>0.467742</td>\n",
       "      <td>0.661706</td>\n",
       "      <td>0.621546</td>\n",
       "    </tr>\n",
       "  </tbody>\n",
       "</table>\n",
       "</div>"
      ],
      "text/plain": [
       "                model  accuracy_train  accuracy_test  f1-score  \\\n",
       "0  LogisticRegression        0.614286       0.629921  0.494624   \n",
       "1                 knn        0.735714       0.740157  0.521739   \n",
       "2                 SVM        0.716667       0.724409  0.492754   \n",
       "3       decision tree        0.969048       0.606299  0.285714   \n",
       "4   gradient boosting        0.969048       0.692913  0.338983   \n",
       "5       random forest        0.880952       0.708661  0.430769   \n",
       "6             xgboost        0.969048       0.653543  0.266667   \n",
       "7                 ANN        0.611905       0.480315  0.467742   \n",
       "\n",
       "   cross_val_score  roc_score  \n",
       "0         0.632938   0.659375  \n",
       "1         0.692532   0.681250  \n",
       "2         0.678860   0.660362  \n",
       "3         0.691817   0.508882  \n",
       "4         0.750153   0.566776  \n",
       "5         0.727160   0.618750  \n",
       "6         0.725672   0.519737  \n",
       "7         0.661706   0.621546  "
      ]
     },
     "execution_count": 132,
     "metadata": {},
     "output_type": "execute_result"
    }
   ],
   "source": [
    "scores=pd.DataFrame(dict)\n",
    "scores"
   ]
  },
  {
   "cell_type": "code",
   "execution_count": 133,
   "id": "1ea2a9d1",
   "metadata": {},
   "outputs": [
    {
     "data": {
      "text/html": [
       "<div>\n",
       "<style scoped>\n",
       "    .dataframe tbody tr th:only-of-type {\n",
       "        vertical-align: middle;\n",
       "    }\n",
       "\n",
       "    .dataframe tbody tr th {\n",
       "        vertical-align: top;\n",
       "    }\n",
       "\n",
       "    .dataframe thead th {\n",
       "        text-align: right;\n",
       "    }\n",
       "</style>\n",
       "<table border=\"1\" class=\"dataframe\">\n",
       "  <thead>\n",
       "    <tr style=\"text-align: right;\">\n",
       "      <th></th>\n",
       "      <th>model</th>\n",
       "      <th>accuracy_train</th>\n",
       "      <th>accuracy_test</th>\n",
       "      <th>f1-score</th>\n",
       "      <th>cross_val_score</th>\n",
       "      <th>roc_score</th>\n",
       "    </tr>\n",
       "  </thead>\n",
       "  <tbody>\n",
       "    <tr>\n",
       "      <th>7</th>\n",
       "      <td>ANN</td>\n",
       "      <td>0.611905</td>\n",
       "      <td>0.480315</td>\n",
       "      <td>0.467742</td>\n",
       "      <td>0.661706</td>\n",
       "      <td>0.621546</td>\n",
       "    </tr>\n",
       "    <tr>\n",
       "      <th>3</th>\n",
       "      <td>decision tree</td>\n",
       "      <td>0.969048</td>\n",
       "      <td>0.606299</td>\n",
       "      <td>0.285714</td>\n",
       "      <td>0.691817</td>\n",
       "      <td>0.508882</td>\n",
       "    </tr>\n",
       "    <tr>\n",
       "      <th>0</th>\n",
       "      <td>LogisticRegression</td>\n",
       "      <td>0.614286</td>\n",
       "      <td>0.629921</td>\n",
       "      <td>0.494624</td>\n",
       "      <td>0.632938</td>\n",
       "      <td>0.659375</td>\n",
       "    </tr>\n",
       "    <tr>\n",
       "      <th>6</th>\n",
       "      <td>xgboost</td>\n",
       "      <td>0.969048</td>\n",
       "      <td>0.653543</td>\n",
       "      <td>0.266667</td>\n",
       "      <td>0.725672</td>\n",
       "      <td>0.519737</td>\n",
       "    </tr>\n",
       "    <tr>\n",
       "      <th>4</th>\n",
       "      <td>gradient boosting</td>\n",
       "      <td>0.969048</td>\n",
       "      <td>0.692913</td>\n",
       "      <td>0.338983</td>\n",
       "      <td>0.750153</td>\n",
       "      <td>0.566776</td>\n",
       "    </tr>\n",
       "    <tr>\n",
       "      <th>5</th>\n",
       "      <td>random forest</td>\n",
       "      <td>0.880952</td>\n",
       "      <td>0.708661</td>\n",
       "      <td>0.430769</td>\n",
       "      <td>0.727160</td>\n",
       "      <td>0.618750</td>\n",
       "    </tr>\n",
       "    <tr>\n",
       "      <th>2</th>\n",
       "      <td>SVM</td>\n",
       "      <td>0.716667</td>\n",
       "      <td>0.724409</td>\n",
       "      <td>0.492754</td>\n",
       "      <td>0.678860</td>\n",
       "      <td>0.660362</td>\n",
       "    </tr>\n",
       "    <tr>\n",
       "      <th>1</th>\n",
       "      <td>knn</td>\n",
       "      <td>0.735714</td>\n",
       "      <td>0.740157</td>\n",
       "      <td>0.521739</td>\n",
       "      <td>0.692532</td>\n",
       "      <td>0.681250</td>\n",
       "    </tr>\n",
       "  </tbody>\n",
       "</table>\n",
       "</div>"
      ],
      "text/plain": [
       "                model  accuracy_train  accuracy_test  f1-score  \\\n",
       "7                 ANN        0.611905       0.480315  0.467742   \n",
       "3       decision tree        0.969048       0.606299  0.285714   \n",
       "0  LogisticRegression        0.614286       0.629921  0.494624   \n",
       "6             xgboost        0.969048       0.653543  0.266667   \n",
       "4   gradient boosting        0.969048       0.692913  0.338983   \n",
       "5       random forest        0.880952       0.708661  0.430769   \n",
       "2                 SVM        0.716667       0.724409  0.492754   \n",
       "1                 knn        0.735714       0.740157  0.521739   \n",
       "\n",
       "   cross_val_score  roc_score  \n",
       "7         0.661706   0.621546  \n",
       "3         0.691817   0.508882  \n",
       "0         0.632938   0.659375  \n",
       "6         0.725672   0.519737  \n",
       "4         0.750153   0.566776  \n",
       "5         0.727160   0.618750  \n",
       "2         0.678860   0.660362  \n",
       "1         0.692532   0.681250  "
      ]
     },
     "execution_count": 133,
     "metadata": {},
     "output_type": "execute_result"
    }
   ],
   "source": [
    "scores.sort_values(by=\"accuracy_test\")"
   ]
  },
  {
   "cell_type": "code",
   "execution_count": 134,
   "id": "3b76acdb",
   "metadata": {},
   "outputs": [],
   "source": [
    "from sklearn.metrics import plot_roc_curve,auc"
   ]
  },
  {
   "cell_type": "code",
   "execution_count": 135,
   "id": "049ad5e0",
   "metadata": {},
   "outputs": [
    {
     "data": {
      "image/png": "[encoded data removed]",
      "text/plain": [
       "<Figure size 640x480 with 1 Axes>"
      ]
     },
     "metadata": {},
     "output_type": "display_data"
    }
   ],
   "source": [
    "disp=plot_roc_curve(LR,x_test,y_test)\n",
    "plot_roc_curve(knn,x_test,y_test,ax=disp.ax_);\n",
    "plot_roc_curve(sv,x_test,y_test,ax=disp.ax_);\n",
    "plot_roc_curve(dt,x_test,y_test,ax=disp.ax_);\n",
    "plot_roc_curve(gb,x_test,y_test,ax=disp.ax_);\n",
    "plot_roc_curve(rf,x_test,y_test,ax=disp.ax_);\n",
    "plot_roc_curve(xg,x_test,y_test,ax=disp.ax_);\n",
    "plot_roc_curve(mlp,x_test,y_test,ax=disp.ax_);"
   ]
  },
  {
   "cell_type": "code",
   "execution_count": 136,
   "id": "ee320b53",
   "metadata": {},
   "outputs": [],
   "source": [
    "# hyper parameter tuning for decision tree\n",
    "from sklearn.model_selection import GridSearchCV\n",
    "params={\"criterion\":(\"gini\",\"entropy\"),\n",
    "       \"splitter\":(\"best\",\"random\"),\n",
    "       \"max_depth\":(list(range(1,6))),\n",
    "       \"min_samples_split\":[1,2,3,4,5,6],\n",
    "       \"min_samples_leaf\":list(range(1,6))\n",
    "       }"
   ]
  },
  {
   "cell_type": "code",
   "execution_count": 137,
   "id": "31edea6c",
   "metadata": {},
   "outputs": [
    {
     "name": "stdout",
     "output_type": "stream",
     "text": [
      "Fitting 3 folds for each of 600 candidates, totalling 1800 fits\n"
     ]
    },
    {
     "data": {
      "text/plain": [
       "GridSearchCV(cv=3, estimator=DecisionTreeClassifier(random_state=3), n_jobs=1,\n",
       "             param_grid={'criterion': ('gini', 'entropy'),\n",
       "                         'max_depth': [1, 2, 3, 4, 5],\n",
       "                         'min_samples_leaf': [1, 2, 3, 4, 5],\n",
       "                         'min_samples_split': [1, 2, 3, 4, 5, 6],\n",
       "                         'splitter': ('best', 'random')},\n",
       "             scoring='f1', verbose=1)"
      ]
     },
     "execution_count": 137,
     "metadata": {},
     "output_type": "execute_result"
    }
   ],
   "source": [
    "tree_clf=DecisionTreeClassifier(random_state=3)\n",
    "tree_cv=GridSearchCV(tree_clf,params,scoring=\"f1\",n_jobs=1,verbose=1,cv=3)\n",
    "tree_cv.fit(x_sm,y_sm)"
   ]
  },
  {
   "cell_type": "code",
   "execution_count": 138,
   "id": "de2ead5c",
   "metadata": {},
   "outputs": [
    {
     "data": {
      "text/plain": [
       "{'criterion': 'gini',\n",
       " 'max_depth': 5,\n",
       " 'min_samples_leaf': 1,\n",
       " 'min_samples_split': 2,\n",
       " 'splitter': 'best'}"
      ]
     },
     "execution_count": 138,
     "metadata": {},
     "output_type": "execute_result"
    }
   ],
   "source": [
    "best_params=tree_cv.best_params_\n",
    "best_params"
   ]
  },
  {
   "cell_type": "code",
   "execution_count": 146,
   "id": "fa3e0cdf",
   "metadata": {},
   "outputs": [],
   "source": [
    "dt1=DecisionTreeClassifier(criterion= 'gini',\n",
    " max_depth= 5,\n",
    " min_samples_leaf= 1,\n",
    " min_samples_split= 2,\n",
    " splitter= 'best')"
   ]
  },
  {
   "cell_type": "code",
   "execution_count": 147,
   "id": "54787907",
   "metadata": {},
   "outputs": [
    {
     "data": {
      "text/plain": [
       "DecisionTreeClassifier(max_depth=5)"
      ]
     },
     "execution_count": 147,
     "metadata": {},
     "output_type": "execute_result"
    }
   ],
   "source": [
    "dt1.fit(x_sm,y_sm)"
   ]
  },
  {
   "cell_type": "code",
   "execution_count": 148,
   "id": "6e8c5023",
   "metadata": {},
   "outputs": [],
   "source": [
    "y_pred_tune=dt1.predict(x_test)\n"
   ]
  },
  {
   "cell_type": "code",
   "execution_count": 149,
   "id": "f1e0d213",
   "metadata": {},
   "outputs": [
    {
     "data": {
      "text/plain": [
       "0.6929133858267716"
      ]
     },
     "execution_count": 149,
     "metadata": {},
     "output_type": "execute_result"
    }
   ],
   "source": [
    "acc_tune=accuracy_score(y_test,y_pred_tune)\n",
    "acc_tune"
   ]
  },
  {
   "cell_type": "code",
   "execution_count": 150,
   "id": "558b42f9",
   "metadata": {},
   "outputs": [],
   "source": [
    "y_pred_tune_train=dt1.predict(x_sm)\n"
   ]
  },
  {
   "cell_type": "code",
   "execution_count": 151,
   "id": "4fa7d134",
   "metadata": {},
   "outputs": [
    {
     "data": {
      "text/plain": [
       "0.8261904761904761"
      ]
     },
     "execution_count": 151,
     "metadata": {},
     "output_type": "execute_result"
    }
   ],
   "source": [
    "acc_tune_train=accuracy_score(y_sm,y_pred_tune_train)\n",
    "acc_tune_train"
   ]
  },
  {
   "cell_type": "code",
   "execution_count": 152,
   "id": "98933057",
   "metadata": {},
   "outputs": [
    {
     "name": "stdout",
     "output_type": "stream",
     "text": [
      "0.8261904761904761\n",
      "0.6929133858267716\n"
     ]
    }
   ],
   "source": [
    "print(acc_tune_train)\n",
    "print(acc_tune)"
   ]
  },
  {
   "cell_type": "code",
   "execution_count": 153,
   "id": "d9e72fdd",
   "metadata": {},
   "outputs": [],
   "source": [
    "# hyperparameter tuning in xgboost"
   ]
  },
  {
   "cell_type": "code",
   "execution_count": 154,
   "id": "02ba2d56",
   "metadata": {},
   "outputs": [],
   "source": [
    "from sklearn.model_selection import RandomizedSearchCV\n",
    "param_grid={\"gamma\":[0,0.1,0.2,0.4,0.8,1.6,3.2,6.4,1.1,1.2,1.3,1.4,1.5,1.6,1.7,1.8,1.9,2.0,2.1,2.2,2.3,2.4,2.5],\n",
    "           \"learning_rate\":[0.01,0.03,0.06,0.1,0.15,1.1,1.2,2.3,4.5,5.6,6.7,7.8,8.9,9.0,0.1,1.2,2.3,3.4,4.5,5],\n",
    "           \"n_estimator\":[50,55,60,65,70,75,80,85,90,67,67,65,64,66,67,68,69,70,71,72,73,74,75,76,77,78,79,80],\n",
    "           \"reg_alpha\":[0,0.1,0.2,0.3,0.4,0.5,0.6,0.7,0.8,0.9,1.0,1.1,1.2,1.3,1.4,1.5],\n",
    "           \"reg_lambda\":[0.1,0.2,0.4,0.8,1.6,3.2,6.4,3,4,5,6,7,8,9,10,11,12,13,14,15]}"
   ]
  },
  {
   "cell_type": "code",
   "execution_count": 155,
   "id": "d25b62ff",
   "metadata": {},
   "outputs": [],
   "source": [
    "xgb=XGBClassifier(random_state=42)"
   ]
  },
  {
   "cell_type": "code",
   "execution_count": 156,
   "id": "bba43219",
   "metadata": {},
   "outputs": [],
   "source": [
    "rcv=RandomizedSearchCV(estimator=xgb,scoring=\"f1\",param_distributions=param_grid,n_iter=100,cv=3,verbose=2,random_state=42,n_jobs=-1)"
   ]
  },
  {
   "cell_type": "code",
   "execution_count": 157,
   "id": "695c8c21",
   "metadata": {},
   "outputs": [
    {
     "name": "stdout",
     "output_type": "stream",
     "text": [
      "Fitting 3 folds for each of 100 candidates, totalling 300 fits\n",
      "[18:11:28] WARNING: C:/buildkite-agent/builds/buildkite-windows-cpu-autoscaling-group-i-0fc7796c793e6356f-1/xgboost/xgboost-ci-windows/src/learner.cc:767: \n",
      "Parameters: { \"n_estimator\" } are not used.\n",
      "\n"
     ]
    },
    {
     "data": {
      "text/plain": [
       "RandomizedSearchCV(cv=3,\n",
       "                   estimator=XGBClassifier(base_score=None, booster=None,\n",
       "                                           callbacks=None,\n",
       "                                           colsample_bylevel=None,\n",
       "                                           colsample_bynode=None,\n",
       "                                           colsample_bytree=None,\n",
       "                                           early_stopping_rounds=None,\n",
       "                                           enable_categorical=False,\n",
       "                                           eval_metric=None, feature_types=None,\n",
       "                                           gamma=None, gpu_id=None,\n",
       "                                           grow_policy=None,\n",
       "                                           importance_type=None,\n",
       "                                           interaction_constraints=None,\n",
       "                                           learning_rate...\n",
       "                                                          0.15, 1.1, 1.2, 2.3,\n",
       "                                                          4.5, 5.6, 6.7, 7.8,\n",
       "                                                          8.9, 9.0, 0.1, 1.2,\n",
       "                                                          2.3, 3.4, 4.5, 5],\n",
       "                                        'n_estimator': [50, 55, 60, 65, 70, 75,\n",
       "                                                        80, 85, 90, 67, 67, 65,\n",
       "                                                        64, 66, 67, 68, 69, 70,\n",
       "                                                        71, 72, 73, 74, 75, 76,\n",
       "                                                        77, 78, 79, 80],\n",
       "                                        'reg_alpha': [0, 0.1, 0.2, 0.3, 0.4,\n",
       "                                                      0.5, 0.6, 0.7, 0.8, 0.9,\n",
       "                                                      1.0, 1.1, 1.2, 1.3, 1.4,\n",
       "                                                      1.5],\n",
       "                                        'reg_lambda': [0.1, 0.2, 0.4, 0.8, 1.6,\n",
       "                                                       3.2, 6.4, 3, 4, 5, 6, 7,\n",
       "                                                       8, 9, 10, 11, 12, 13, 14,\n",
       "                                                       15]},\n",
       "                   random_state=42, scoring='f1', verbose=2)"
      ]
     },
     "execution_count": 157,
     "metadata": {},
     "output_type": "execute_result"
    }
   ],
   "source": [
    "rcv.fit(x_sm,y_sm)"
   ]
  },
  {
   "cell_type": "code",
   "execution_count": 158,
   "id": "0c5be2b5",
   "metadata": {},
   "outputs": [
    {
     "data": {
      "text/plain": [
       "{'reg_lambda': 6.4,\n",
       " 'reg_alpha': 0.4,\n",
       " 'n_estimator': 80,\n",
       " 'learning_rate': 1.2,\n",
       " 'gamma': 1.1}"
      ]
     },
     "execution_count": 158,
     "metadata": {},
     "output_type": "execute_result"
    }
   ],
   "source": [
    "best_params=rcv.best_params_\n",
    "best_params"
   ]
  },
  {
   "cell_type": "code",
   "execution_count": 159,
   "id": "c8944b01",
   "metadata": {},
   "outputs": [],
   "source": [
    "xgb2=XGBClassifier(reg_lambda=6.4,\n",
    " reg_alpha=0.4,\n",
    " n_estimator= 80,\n",
    " learning_rate= 1.2,\n",
    " gamma= 1.1)"
   ]
  },
  {
   "cell_type": "code",
   "execution_count": 160,
   "id": "d3d842ce",
   "metadata": {},
   "outputs": [
    {
     "name": "stdout",
     "output_type": "stream",
     "text": [
      "[18:11:55] WARNING: C:/buildkite-agent/builds/buildkite-windows-cpu-autoscaling-group-i-0fc7796c793e6356f-1/xgboost/xgboost-ci-windows/src/learner.cc:767: \n",
      "Parameters: { \"n_estimator\" } are not used.\n",
      "\n"
     ]
    }
   ],
   "source": [
    "xgb2.fit(x_sm,y_sm)\n",
    "y_pred_tune1=xgb2.predict(x_test)"
   ]
  },
  {
   "cell_type": "code",
   "execution_count": 161,
   "id": "ca2150a6",
   "metadata": {},
   "outputs": [
    {
     "data": {
      "text/plain": [
       "0.7244094488188977"
      ]
     },
     "execution_count": 161,
     "metadata": {},
     "output_type": "execute_result"
    }
   ],
   "source": [
    "acc_tune1=accuracy_score(y_test,y_pred_tune1)\n",
    "acc_tune1"
   ]
  },
  {
   "cell_type": "code",
   "execution_count": 162,
   "id": "106bddc3",
   "metadata": {},
   "outputs": [
    {
     "data": {
      "text/plain": [
       "0.8095238095238095"
      ]
     },
     "execution_count": 162,
     "metadata": {},
     "output_type": "execute_result"
    }
   ],
   "source": [
    "y_pred_tune1=xgb2.predict(x_sm)\n",
    "acc_train1=accuracy_score(y_sm,y_pred_tune1)\n",
    "acc_train1"
   ]
  },
  {
   "cell_type": "code",
   "execution_count": 163,
   "id": "991e29b7",
   "metadata": {},
   "outputs": [],
   "source": [
    "# hyperparameter tuning for random forest\n",
    "from sklearn.model_selection import RandomizedSearchCV\n",
    "n_estimators = [int(x) for x in np.linspace(start=200, stop=2000, num=10)]#List Comprehension-using for loop in list\n",
    "max_features = ['auto', 'sqrt']#maximum number of features allowed to try in individual tree\n",
    "max_depth = [int(x) for x in np.linspace(10, 110, num=11)]#List Comprehension-using for loop in list\n",
    "max_depth.append(None)\n",
    "min_samples_split = [2, 5, 10]#minimum number of samples required to split an internal node\n",
    "min_samples_leaf = [1, 2, 4]#minimum number of samples required to be at a leaf node.\n",
    "bootstrap = [True, False]#sampling \n",
    "\n",
    "#dictionary for hyperparameters\n",
    "random_grid = {'n_estimators': n_estimators, 'max_features': max_features,\n",
    "               'max_depth': max_depth, 'min_samples_split': min_samples_split,\n",
    "               'min_samples_leaf': min_samples_leaf, 'bootstrap': bootstrap}\n",
    "\n",
    "rf_clf1 = RandomForestClassifier(random_state=42)#model\n",
    "\n",
    "rf_cv = RandomizedSearchCV(estimator=rf_clf1, scoring='f1',param_distributions=random_grid, n_iter=100, cv=3, \n",
    "                               verbose=2, random_state=42, n_jobs=-1)\n"
   ]
  },
  {
   "cell_type": "code",
   "execution_count": 164,
   "id": "53c7eac5",
   "metadata": {},
   "outputs": [
    {
     "name": "stdout",
     "output_type": "stream",
     "text": [
      "Fitting 3 folds for each of 100 candidates, totalling 300 fits\n"
     ]
    },
    {
     "data": {
      "text/plain": [
       "RandomizedSearchCV(cv=3, estimator=RandomForestClassifier(random_state=42),\n",
       "                   n_iter=100, n_jobs=-1,\n",
       "                   param_distributions={'bootstrap': [True, False],\n",
       "                                        'max_depth': [10, 20, 30, 40, 50, 60,\n",
       "                                                      70, 80, 90, 100, 110,\n",
       "                                                      None],\n",
       "                                        'max_features': ['auto', 'sqrt'],\n",
       "                                        'min_samples_leaf': [1, 2, 4],\n",
       "                                        'min_samples_split': [2, 5, 10],\n",
       "                                        'n_estimators': [200, 400, 600, 800,\n",
       "                                                         1000, 1200, 1400, 1600,\n",
       "                                                         1800, 2000]},\n",
       "                   random_state=42, scoring='f1', verbose=2)"
      ]
     },
     "execution_count": 164,
     "metadata": {},
     "output_type": "execute_result"
    }
   ],
   "source": [
    "rf_cv.fit(x_sm,y_sm)"
   ]
  },
  {
   "cell_type": "code",
   "execution_count": 165,
   "id": "15a0e28e",
   "metadata": {},
   "outputs": [
    {
     "data": {
      "text/plain": [
       "{'n_estimators': 1400,\n",
       " 'min_samples_split': 2,\n",
       " 'min_samples_leaf': 1,\n",
       " 'max_features': 'auto',\n",
       " 'max_depth': 100,\n",
       " 'bootstrap': True}"
      ]
     },
     "execution_count": 165,
     "metadata": {},
     "output_type": "execute_result"
    }
   ],
   "source": [
    "rf_best_params=rf_cv.best_params_\n",
    "rf_best_params"
   ]
  },
  {
   "cell_type": "code",
   "execution_count": 166,
   "id": "b712fc98",
   "metadata": {},
   "outputs": [],
   "source": [
    "rf2=RandomForestClassifier(n_estimators= 1400,\n",
    " min_samples_split= 2,\n",
    " min_samples_leaf=1,\n",
    " max_features='auto',\n",
    " max_depth= 100,\n",
    " bootstrap=True)"
   ]
  },
  {
   "cell_type": "code",
   "execution_count": 167,
   "id": "6f97a63d",
   "metadata": {},
   "outputs": [],
   "source": [
    "rf2.fit(x_sm,y_sm)\n",
    "y_pred_tune2=rf2.predict(x_test)"
   ]
  },
  {
   "cell_type": "code",
   "execution_count": 168,
   "id": "d6d5b4f7",
   "metadata": {},
   "outputs": [
    {
     "data": {
      "text/plain": [
       "0.6929133858267716"
      ]
     },
     "execution_count": 168,
     "metadata": {},
     "output_type": "execute_result"
    }
   ],
   "source": [
    "acc_tune=accuracy_score(y_test,y_pred_tune2)\n",
    "acc_tune"
   ]
  },
  {
   "cell_type": "code",
   "execution_count": 169,
   "id": "30b45d72",
   "metadata": {},
   "outputs": [
    {
     "data": {
      "text/plain": [
       "0.969047619047619"
      ]
     },
     "execution_count": 169,
     "metadata": {},
     "output_type": "execute_result"
    }
   ],
   "source": [
    "y_pre=rf2.predict(x_sm)\n",
    "acc_train=accuracy_score(y_sm,y_pre)\n",
    "acc_train"
   ]
  },
  {
   "cell_type": "code",
   "execution_count": null,
   "id": "987413ea",
   "metadata": {},
   "outputs": [],
   "source": []
  }
 ],
 "metadata": {
  "kernelspec": {
   "display_name": "Python 3 (ipykernel)",
   "language": "python",
   "name": "python3"
  },
  "language_info": {
   "codemirror_mode": {
    "name": "ipython",
    "version": 3
   },
   "file_extension": ".py",
   "mimetype": "text/x-python",
   "name": "python",
   "nbconvert_exporter": "python",
   "pygments_lexer": "ipython3",
   "version": "3.9.13"
  }
 },
 "nbformat": 4,
 "nbformat_minor": 5
}
